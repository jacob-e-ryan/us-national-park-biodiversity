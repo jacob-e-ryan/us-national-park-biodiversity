{
 "cells": [
  {
   "cell_type": "markdown",
   "metadata": {},
   "source": [
    "## Introduction\n",
    "\n",
    "This is an analysis of data from the National Parks Service about endangered species in different parks.\n",
    "\n",
    "This goal of this project is to analyze biodiversity data from the National Parks Service, particularly around various species observed in different national park locations. In our hypothetical scenario, we're a biodiversity analyst working for the National Park Service, and the National Park Service wants to ensure the survival of species at risk, to maintain the parks' biodiversity.\n",
    "\n",
    "This project will scope, analyze, prepare, plot data, and seek to explain the findings from the analysis.\n",
    "\n",
    "Here's a few questions that we want to answer with this project:\n",
    "\n",
    "    What is the distribution of conservation status for species?\n",
    "    Are certain types of species more likely to be endangered?\n",
    "    Are the differences between species and their conservation status significant?\n",
    "    Which animal is most prevalent and what is their distribution amongst parks?\n",
    "\n",
    "Data sources:\n",
    "\n",
    "Both Observations.csv and Species_info.csv was sourced from https://content.codecademy.com/PRO/paths/data-science/biodiversity-solution.zip\n",
    "\n",
    "Note: While inspired by real data, the data here is mostly fictional.\n",
    "\n",
    "## Scoping\n",
    "\n",
    "Here we decide the scope of this project. We do this through 4 different categories - Project Goals, Data, Analysis and Evaluation\n",
    "\n",
    "### Project Goals\n",
    "\n",
    "In our hypothetical scenario, we're a biodiversity analyst working for the National Park Service, and the National Park Service wants to ensure the survival of species at risk, to maintain the parks' biodiversity.\n",
    "\n",
    "As described in the introduction, we have a few questions that we want to answer:\n",
    "\n",
    "    What is the distribution of conservation status for species?\n",
    "    Are certain types of species more likely to be endangered?\n",
    "    Are the differences between species and their conservation status significant?\n",
    "    Which animal is most prevalent and what is their distribution amongst parks?\n",
    "\n",
    "### Data\n",
    "\n",
    "We have access to two csv files. 'observations.csv' relates to the observations of species in park locations, and 'species_info.csv' relates to information about different species. We'll get into more detail about these once the project is started.\n",
    "\n",
    "### Analysis\n",
    "\n",
    "### Evaluation\n",
    "\n",
    "## Import modules\n",
    "\n",
    "Here we import any important modules for the project.\n",
    "\n",
    "numpy is for numerical manipulation,\n",
    "pandas is for data manipulation,\n",
    "pyplot and seaborn are for plotting data."
   ]
  },
  {
   "cell_type": "code",
   "execution_count": 3,
   "metadata": {},
   "outputs": [],
   "source": [
    "import numpy as np\n",
    "import pandas as pd\n",
    "from matplotlib import pyplot as plt\n",
    "import seaborn as sns"
   ]
  },
  {
   "cell_type": "markdown",
   "metadata": {},
   "source": [
    "## Loading the Data\n",
    "\n",
    "Let's read our data and see what we have:"
   ]
  },
  {
   "cell_type": "code",
   "execution_count": 4,
   "metadata": {},
   "outputs": [
    {
     "name": "stdout",
     "output_type": "stream",
     "text": [
      "            scientific_name                            park_name  observations\n",
      "0        Vicia benghalensis  Great Smoky Mountains National Park            68\n",
      "1            Neovison vison  Great Smoky Mountains National Park            77\n",
      "2         Prunus subcordata               Yosemite National Park           138\n",
      "3      Abutilon theophrasti                  Bryce National Park            84\n",
      "4  Githopsis specularioides  Great Smoky Mountains National Park            85\n",
      "  category                scientific_name  \\\n",
      "0   Mammal  Clethrionomys gapperi gapperi   \n",
      "1   Mammal                      Bos bison   \n",
      "2   Mammal                     Bos taurus   \n",
      "3   Mammal                     Ovis aries   \n",
      "4   Mammal                 Cervus elaphus   \n",
      "\n",
      "                                        common_names conservation_status  \n",
      "0                           Gapper's Red-Backed Vole                 NaN  \n",
      "1                              American Bison, Bison                 NaN  \n",
      "2  Aurochs, Aurochs, Domestic Cattle (Feral), Dom...                 NaN  \n",
      "3  Domestic Sheep, Mouflon, Red Sheep, Sheep (Feral)                 NaN  \n",
      "4                                      Wapiti Or Elk                 NaN  \n"
     ]
    }
   ],
   "source": [
    "df_obs = pd.read_csv('observations.csv')\n",
    "df_species = pd.read_csv('species_info.csv')\n",
    "\n",
    "print(df_obs.head())\n",
    "print(df_species.head())"
   ]
  },
  {
   "cell_type": "markdown",
   "metadata": {},
   "source": [
    "So we have two csvs. \n",
    "\n",
    "One, called 'observations.csv', has a list of different species paired with the national park they were spotted at. This is then paired with the number of observations of this species at this park. According to the description, this is observations over the past 7 days.\n",
    "\n",
    "The other is 'species_info.csv' and has info about different species - scientific and other names, category of species (eg. mammal, bird, reptile, vascular plant), and their conservation status (whether endangered or not, see https://en.wikipedia.org/wiki/Endangered_species)."
   ]
  },
  {
   "cell_type": "markdown",
   "metadata": {},
   "source": [
    "#TODO: Check NaN for conservation_status / other variables. Plot most popular animals of each park"
   ]
  },
  {
   "cell_type": "code",
   "execution_count": 6,
   "metadata": {},
   "outputs": [
    {
     "name": "stdout",
     "output_type": "stream",
     "text": [
      "[nan 'Species of Concern' 'Endangered' 'Threatened' 'In Recovery']\n"
     ]
    }
   ],
   "source": [
    "print(df_species.conservation_status.unique())"
   ]
  }
 ],
 "metadata": {
  "kernelspec": {
   "display_name": "Python 3",
   "language": "python",
   "name": "python3"
  },
  "language_info": {
   "codemirror_mode": {
    "name": "ipython",
    "version": 3
   },
   "file_extension": ".py",
   "mimetype": "text/x-python",
   "name": "python",
   "nbconvert_exporter": "python",
   "pygments_lexer": "ipython3",
   "version": "3.8.6"
  }
 },
 "nbformat": 4,
 "nbformat_minor": 4
}
