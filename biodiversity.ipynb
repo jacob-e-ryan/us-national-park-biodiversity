{
 "cells": [
  {
   "cell_type": "markdown",
   "metadata": {},
   "source": [
    "## Introduction\n",
    "\n",
    "This is an analysis of data from the National Parks Service about endangered species in different parks.\n",
    "\n",
    "This goal of this project is to analyze biodiversity data from the National Parks Service, particularly around various species observed in different national park locations. In our hypothetical scenario, we're a biodiversity analyst working for the National Park Service, and the National Park Service wants to ensure the survival of species at risk, to maintain the parks' biodiversity.\n",
    "\n",
    "This project will scope, analyze, prepare, plot data, and seek to explain the findings from the analysis.\n",
    "\n",
    "Here's a few questions that we want to answer with this project:\n",
    "\n",
    "    What is the distribution of conservation status for species?\n",
    "    Are certain types of species more likely to be endangered?\n",
    "    Are the differences between species and their conservation status significant?\n",
    "    Which animal is most prevalent and what is their distribution amongst parks?\n",
    "\n",
    "Data sources:\n",
    "\n",
    "`observations.csv` and `species_info.csv` were sourced from https://content.codecademy.com/PRO/paths/data-science/biodiversity-solution.zip\n",
    "\n",
    "Note: While inspired by real data, the data here is mostly fictional.\n",
    "\n",
    "## Scoping\n",
    "\n",
    "Here we decide the scope of this project. We do this through 4 different categories - Project Goals, Data, Analysis and Evaluation\n",
    "\n",
    "### Project Goals\n",
    "\n",
    "In our hypothetical scenario, we're a biodiversity analyst working for the National Park Service, and the National Park Service wants to ensure the survival of species at risk, to maintain the parks' biodiversity.\n",
    "\n",
    "As described in the introduction, we have a few questions that we want to answer:\n",
    "\n",
    "    What is the distribution of conservation status for species?\n",
    "    Are certain types of species more likely to be endangered?\n",
    "    Are the differences between species and their conservation status significant?\n",
    "    Which animal is most prevalent and what is their distribution amongst parks?\n",
    "\n",
    "### Data\n",
    "\n",
    "We have access to two csv files. `observations.csv` relates to the observations of species in park locations, and `species_info.csv` relates to information about different species. We'll get into more detail about these once the project is started.\n",
    "\n",
    "### Analysis\n",
    "\n",
    "We'll be using a number of different analysis tools, namely we want to use descriptive statistics, data visualisation and statistical inference to achieve our project goals. We'll be computing distributions, counts, relationship between species, conservation status of species and observations of species in parks.\n",
    "\n",
    "### Evaluation\n",
    "\n",
    "Lastly, once we've analysed our data, we want to evaluate our findings, ask if we've answered the questions set out in the project goals, as well as any problems or shortcomings of the data we had available or the methods we've used.\n",
    "\n",
    "## Import modules\n",
    "\n",
    "Here we import any important modules for the project.\n",
    "\n",
    "`numpy` is for numerical manipulation,\n",
    "`pandas` is for data manipulation,\n",
    "`pyplot` and `seaborn` are for plotting data."
   ]
  },
  {
   "cell_type": "code",
   "execution_count": 2,
   "metadata": {},
   "outputs": [],
   "source": [
    "import numpy as np\n",
    "import pandas as pd\n",
    "from matplotlib import pyplot as plt\n",
    "import seaborn as sns"
   ]
  },
  {
   "cell_type": "markdown",
   "metadata": {},
   "source": [
    "## Loading the Data\n",
    "\n",
    "Let's read our data and see what we have:\n",
    "\n",
    "### species_info.csv"
   ]
  },
  {
   "cell_type": "code",
   "execution_count": 3,
   "metadata": {},
   "outputs": [
    {
     "data": {
      "text/html": [
       "<div>\n",
       "<style scoped>\n",
       "    .dataframe tbody tr th:only-of-type {\n",
       "        vertical-align: middle;\n",
       "    }\n",
       "\n",
       "    .dataframe tbody tr th {\n",
       "        vertical-align: top;\n",
       "    }\n",
       "\n",
       "    .dataframe thead th {\n",
       "        text-align: right;\n",
       "    }\n",
       "</style>\n",
       "<table border=\"1\" class=\"dataframe\">\n",
       "  <thead>\n",
       "    <tr style=\"text-align: right;\">\n",
       "      <th></th>\n",
       "      <th>category</th>\n",
       "      <th>scientific_name</th>\n",
       "      <th>common_names</th>\n",
       "      <th>conservation_status</th>\n",
       "    </tr>\n",
       "  </thead>\n",
       "  <tbody>\n",
       "    <tr>\n",
       "      <th>0</th>\n",
       "      <td>Mammal</td>\n",
       "      <td>Clethrionomys gapperi gapperi</td>\n",
       "      <td>Gapper's Red-Backed Vole</td>\n",
       "      <td>NaN</td>\n",
       "    </tr>\n",
       "    <tr>\n",
       "      <th>1</th>\n",
       "      <td>Mammal</td>\n",
       "      <td>Bos bison</td>\n",
       "      <td>American Bison, Bison</td>\n",
       "      <td>NaN</td>\n",
       "    </tr>\n",
       "    <tr>\n",
       "      <th>2</th>\n",
       "      <td>Mammal</td>\n",
       "      <td>Bos taurus</td>\n",
       "      <td>Aurochs, Aurochs, Domestic Cattle (Feral), Dom...</td>\n",
       "      <td>NaN</td>\n",
       "    </tr>\n",
       "    <tr>\n",
       "      <th>3</th>\n",
       "      <td>Mammal</td>\n",
       "      <td>Ovis aries</td>\n",
       "      <td>Domestic Sheep, Mouflon, Red Sheep, Sheep (Feral)</td>\n",
       "      <td>NaN</td>\n",
       "    </tr>\n",
       "    <tr>\n",
       "      <th>4</th>\n",
       "      <td>Mammal</td>\n",
       "      <td>Cervus elaphus</td>\n",
       "      <td>Wapiti Or Elk</td>\n",
       "      <td>NaN</td>\n",
       "    </tr>\n",
       "  </tbody>\n",
       "</table>\n",
       "</div>"
      ],
      "text/plain": [
       "  category                scientific_name  \\\n",
       "0   Mammal  Clethrionomys gapperi gapperi   \n",
       "1   Mammal                      Bos bison   \n",
       "2   Mammal                     Bos taurus   \n",
       "3   Mammal                     Ovis aries   \n",
       "4   Mammal                 Cervus elaphus   \n",
       "\n",
       "                                        common_names conservation_status  \n",
       "0                           Gapper's Red-Backed Vole                 NaN  \n",
       "1                              American Bison, Bison                 NaN  \n",
       "2  Aurochs, Aurochs, Domestic Cattle (Feral), Dom...                 NaN  \n",
       "3  Domestic Sheep, Mouflon, Red Sheep, Sheep (Feral)                 NaN  \n",
       "4                                      Wapiti Or Elk                 NaN  "
      ]
     },
     "execution_count": 3,
     "metadata": {},
     "output_type": "execute_result"
    }
   ],
   "source": [
    "df_species = pd.read_csv('species_info.csv')\n",
    "df_species.head()"
   ]
  },
  {
   "cell_type": "markdown",
   "metadata": {},
   "source": [
    "`species_info.csv` has info about different species, with columns:\n",
    "1. `category` - category of species (eg. mammal, bird, reptile, vascular plant)\n",
    "1. `scientific_name` - scientific name of the species\n",
    "1. `common_name` - any other names that the animal may be reffered to as, sometimes seperated by commas but also by 'Or'\n",
    "1. `conservation_status` - their conservation status (whether endangered or not, see https://en.wikipedia.org/wiki/Endangered_species for more info).\n",
    "\n",
    "### observations.csv"
   ]
  },
  {
   "cell_type": "code",
   "execution_count": 4,
   "metadata": {},
   "outputs": [
    {
     "data": {
      "text/html": [
       "<div>\n",
       "<style scoped>\n",
       "    .dataframe tbody tr th:only-of-type {\n",
       "        vertical-align: middle;\n",
       "    }\n",
       "\n",
       "    .dataframe tbody tr th {\n",
       "        vertical-align: top;\n",
       "    }\n",
       "\n",
       "    .dataframe thead th {\n",
       "        text-align: right;\n",
       "    }\n",
       "</style>\n",
       "<table border=\"1\" class=\"dataframe\">\n",
       "  <thead>\n",
       "    <tr style=\"text-align: right;\">\n",
       "      <th></th>\n",
       "      <th>scientific_name</th>\n",
       "      <th>park_name</th>\n",
       "      <th>observations</th>\n",
       "    </tr>\n",
       "  </thead>\n",
       "  <tbody>\n",
       "    <tr>\n",
       "      <th>0</th>\n",
       "      <td>Vicia benghalensis</td>\n",
       "      <td>Great Smoky Mountains National Park</td>\n",
       "      <td>68</td>\n",
       "    </tr>\n",
       "    <tr>\n",
       "      <th>1</th>\n",
       "      <td>Neovison vison</td>\n",
       "      <td>Great Smoky Mountains National Park</td>\n",
       "      <td>77</td>\n",
       "    </tr>\n",
       "    <tr>\n",
       "      <th>2</th>\n",
       "      <td>Prunus subcordata</td>\n",
       "      <td>Yosemite National Park</td>\n",
       "      <td>138</td>\n",
       "    </tr>\n",
       "    <tr>\n",
       "      <th>3</th>\n",
       "      <td>Abutilon theophrasti</td>\n",
       "      <td>Bryce National Park</td>\n",
       "      <td>84</td>\n",
       "    </tr>\n",
       "    <tr>\n",
       "      <th>4</th>\n",
       "      <td>Githopsis specularioides</td>\n",
       "      <td>Great Smoky Mountains National Park</td>\n",
       "      <td>85</td>\n",
       "    </tr>\n",
       "  </tbody>\n",
       "</table>\n",
       "</div>"
      ],
      "text/plain": [
       "            scientific_name                            park_name  observations\n",
       "0        Vicia benghalensis  Great Smoky Mountains National Park            68\n",
       "1            Neovison vison  Great Smoky Mountains National Park            77\n",
       "2         Prunus subcordata               Yosemite National Park           138\n",
       "3      Abutilon theophrasti                  Bryce National Park            84\n",
       "4  Githopsis specularioides  Great Smoky Mountains National Park            85"
      ]
     },
     "execution_count": 4,
     "metadata": {},
     "output_type": "execute_result"
    }
   ],
   "source": [
    "df_obs = pd.read_csv('observations.csv')\n",
    "df_obs.head()"
   ]
  },
  {
   "cell_type": "markdown",
   "metadata": {},
   "source": [
    "'observations.csv', has a list of different species paired with the national park they were spotted at. This is then paired with the number of observations of this species at this park. According to the description, this is observations over the past 7 days. It has columns:\n",
    "\n",
    "1. scientific_name - scientific name of the species, as seen on 'species_info.csv'\n",
    "1. park_name - which park this species has been spotted at\n",
    "1. observations - how many observations of this animal in the past 7 days"
   ]
  },
  {
   "cell_type": "markdown",
   "metadata": {},
   "source": [
    "### Dimensions\n",
    "\n",
    "Next we check how many rows and columns each data set has."
   ]
  },
  {
   "cell_type": "code",
   "execution_count": 5,
   "metadata": {},
   "outputs": [
    {
     "name": "stdout",
     "output_type": "stream",
     "text": [
      "The species dataframe has shape (5824, 4)\n",
      "The observations dataframe has shape (23296, 3)\n"
     ]
    }
   ],
   "source": [
    "print(f\"The species dataframe has shape {df_species.shape}\")\n",
    "print(f\"The observations dataframe has shape {df_obs.shape}\")"
   ]
  },
  {
   "cell_type": "markdown",
   "metadata": {},
   "source": [
    "So we see that the species dataframe has 5824 rows and 4 columns, and the observations dataframe has 23296 rows and 3 columns.\n",
    "\n",
    "## Exploring the Data\n",
    "\n",
    "We'd like to know a little more about our data sets, starting with the species dataframe. How many unique species do we have?"
   ]
  },
  {
   "cell_type": "code",
   "execution_count": 8,
   "metadata": {},
   "outputs": [
    {
     "name": "stdout",
     "output_type": "stream",
     "text": [
      "Unique number of species in the species dataframe:5541\n"
     ]
    }
   ],
   "source": [
    "print(f\"Unique number of species in the species dataframe:{df_species.scientific_name.nunique()}\")"
   ]
  },
  {
   "cell_type": "markdown",
   "metadata": {},
   "source": [
    "Next, we want to know how many and what categories we have for the `category` column. Let's check:"
   ]
  },
  {
   "cell_type": "code",
   "execution_count": 13,
   "metadata": {},
   "outputs": [
    {
     "name": "stdout",
     "output_type": "stream",
     "text": [
      "How many categories of species: 7\n",
      "\n",
      "What categories of species: ['Mammal' 'Bird' 'Reptile' 'Amphibian' 'Fish' 'Vascular Plant'\n",
      " 'Nonvascular Plant']\n",
      "\n",
      "How many of each category do we have?\n"
     ]
    },
    {
     "data": {
      "text/plain": [
       "category\n",
       "Amphibian              80\n",
       "Bird                  521\n",
       "Fish                  127\n",
       "Mammal                214\n",
       "Nonvascular Plant     333\n",
       "Reptile                79\n",
       "Vascular Plant       4470\n",
       "dtype: int64"
      ]
     },
     "execution_count": 13,
     "metadata": {},
     "output_type": "execute_result"
    }
   ],
   "source": [
    "print(f\"How many categories of species: {df_species.category.nunique()}\")\n",
    "print(f\"\\nWhat categories of species: {df_species.category.unique()}\")\n",
    "print(\"\\nHow many of each category do we have?\")\n",
    "df_species.groupby(\"category\").size()"
   ]
  },
  {
   "cell_type": "markdown",
   "metadata": {},
   "source": [
    "We can see based on this that *most* of the species are actually vascular plants, with 4470. We also have a lot of birds and nonvascular plants, but not many reptiles - only 79.\n",
    "\n",
    "We should also have a look at the `conservation_status` column: what does it look like?"
   ]
  },
  {
   "cell_type": "code",
   "execution_count": 18,
   "metadata": {},
   "outputs": [
    {
     "name": "stdout",
     "output_type": "stream",
     "text": [
      "Unique number of conservation status: 4\n",
      "What conservation statuses: [nan 'Species of Concern' 'Endangered' 'Threatened' 'In Recovery']\n"
     ]
    }
   ],
   "source": [
    "print(f\"Unique number of conservation status: {df_species.conservation_status.nunique()}\")\n",
    "print(f\"What conservation statuses: {df_species.conservation_status.unique()}\")"
   ]
  },
  {
   "cell_type": "markdown",
   "metadata": {},
   "source": [
    "We see that we have some `NaN` in our `conservation_status` column - these actually mean that the species is not endangered. We'll deal with this later in our analysis section. For now, we'll see how much of each conservation status we have:"
   ]
  },
  {
   "cell_type": "code",
   "execution_count": 15,
   "metadata": {},
   "outputs": [
    {
     "name": "stdout",
     "output_type": "stream",
     "text": [
      "conservation_status\n",
      "Endangered             16\n",
      "In Recovery             4\n",
      "Species of Concern    161\n",
      "Threatened             10\n",
      "dtype: int64\n",
      "Number of NaN values: 5633\n"
     ]
    }
   ],
   "source": [
    "print(df_species.groupby(\"conservation_status\").size())\n",
    "print(f\"Number of NaN values: {df_species.conservation_status.isna().sum()}\")"
   ]
  },
  {
   "cell_type": "markdown",
   "metadata": {},
   "source": [
    "We see that *most* of our species are not endangered - there are 5633 `NaN` values. However, 161 of our species are of concern, 10 are threatened, 16 are endangered and 4 are in recovery.\n",
    "\n",
    "### observations.csv\n",
    "\n",
    "Next we turn our attention to the observations dataframe. We're interested in the parks in the data set, referred to in the `park_name` column. How many and what parks are there?"
   ]
  },
  {
   "cell_type": "code",
   "execution_count": 17,
   "metadata": {},
   "outputs": [
    {
     "name": "stdout",
     "output_type": "stream",
     "text": [
      "How many parks: 4\n",
      "Names of parks: ['Great Smoky Mountains National Park' 'Yosemite National Park'\n",
      " 'Bryce National Park' 'Yellowstone National Park']\n"
     ]
    }
   ],
   "source": [
    "print(f\"How many parks: {df_obs.park_name.nunique()}\")\n",
    "print(f\"Names of parks: {df_obs.park_name.unique()}\")"
   ]
  },
  {
   "cell_type": "markdown",
   "metadata": {},
   "source": [
    "We see there's four parks in the data set - Great Smoky Mountains, Yosemite, Bryce and Yellowstone.\n",
    "\n",
    "It'd also be great to know how many total observations there were:"
   ]
  },
  {
   "cell_type": "code",
   "execution_count": 19,
   "metadata": {},
   "outputs": [
    {
     "name": "stdout",
     "output_type": "stream",
     "text": [
      "Total observations: 3314739\n"
     ]
    }
   ],
   "source": [
    "print(f\"Total observations: {df_obs.observations.sum()}\")"
   ]
  },
  {
   "cell_type": "markdown",
   "metadata": {},
   "source": [
    "We see there's over 3.3 million total observations over the 7 day timeframe. This is a lot of data points."
   ]
  },
  {
   "cell_type": "markdown",
   "metadata": {},
   "source": [
    "## Analysis\n",
    "\n",
    "The first objective I have is, as mentioned in the exploration section, to replace the `NaN` in the `conservation_status` column of the species dataframe, as this refers to animals that aren't of concern in terms of endangerment. So we'll replace `NaN` with `Not of Concern`."
   ]
  },
  {
   "cell_type": "code",
   "execution_count": 21,
   "metadata": {},
   "outputs": [
    {
     "name": "stdout",
     "output_type": "stream",
     "text": [
      "conservation_status\n",
      "Endangered              16\n",
      "In Recovery              4\n",
      "Not of Concern        5633\n",
      "Species of Concern     161\n",
      "Threatened              10\n",
      "dtype: int64\n"
     ]
    }
   ],
   "source": [
    "df_species.fillna('Not of Concern', inplace=True)\n",
    "print(df_species.groupby(\"conservation_status\").size())"
   ]
  },
  {
   "cell_type": "markdown",
   "metadata": {},
   "source": [
    "### Distribution of conservation status\n",
    "\n",
    "Next, we'll have a look at the makeup of each `conservation_status` relating to each `category` of species. How many mammals, birds, reptiles, etc. are endangered? This will help to resolve our question \"What is the distribution of conservation status for species?\""
   ]
  },
  {
   "cell_type": "code",
   "execution_count": 31,
   "metadata": {},
   "outputs": [
    {
     "data": {
      "text/plain": [
       "Index(['Amphibian', 'Bird', 'Fish', 'Mammal', 'Nonvascular Plant', 'Reptile',\n",
       "       'Vascular Plant'],\n",
       "      dtype='object', name='category')"
      ]
     },
     "execution_count": 31,
     "metadata": {},
     "output_type": "execute_result"
    }
   ],
   "source": [
    "conservation_with_category = df_species.groupby(['conservation_status','category']).scientific_name.count().unstack()\n",
    "conservation_with_category.columns"
   ]
  },
  {
   "cell_type": "markdown",
   "metadata": {},
   "source": [
    "We can see that no nonvascular plants or reptiles are above species of concern on the conservation status. 7 mammals, 4 birds, 3 fish, 1 amphibian and 1 vascular plant are endangered. Let's plot to see more. Not of Concern is much larger than the other categories so we'll plot this seperately."
   ]
  },
  {
   "cell_type": "code",
   "execution_count": 43,
   "metadata": {},
   "outputs": [
    {
     "data": {
      "text/plain": [
       "<Axes: xlabel='conservation_status'>"
      ]
     },
     "execution_count": 43,
     "metadata": {},
     "output_type": "execute_result"
    },
    {
     "data": {
      "image/png": "[encoded data removed]",
      "text/plain": [
       "<Figure size 700x500 with 1 Axes>"
      ]
     },
     "metadata": {},
     "output_type": "display_data"
    },
    {
     "data": {
      "image/png": "[encoded data removed]",
      "text/plain": [
       "<Figure size 600x500 with 1 Axes>"
      ]
     },
     "metadata": {},
     "output_type": "display_data"
    }
   ],
   "source": [
    "conservation_with_category.drop(index=['Not of Concern']).plot(stacked=True,kind='bar',figsize=(7,5))\n",
    "conservation_with_category.drop(index=['Endangered','In Recovery','Species of Concern','Threatened']).plot(stacked=True,kind='bar',figsize=(6,5), width=.1)"
   ]
  },
  {
   "cell_type": "markdown",
   "metadata": {},
   "source": [
    "This answers our question \"What is the distribution of conservation status for species?\".\n",
    "\n",
    "### Likelihood of Conservation Status\n",
    "\n",
    "Next we ask the question: \"Are certain types of species more likely to be endangered?\". We do this by finding the proportion of each category that have some kind of conservation status."
   ]
  },
  {
   "cell_type": "code",
   "execution_count": 50,
   "metadata": {},
   "outputs": [
    {
     "data": {
      "text/html": [
       "<div>\n",
       "<style scoped>\n",
       "    .dataframe tbody tr th:only-of-type {\n",
       "        vertical-align: middle;\n",
       "    }\n",
       "\n",
       "    .dataframe tbody tr th {\n",
       "        vertical-align: top;\n",
       "    }\n",
       "\n",
       "    .dataframe thead th {\n",
       "        text-align: right;\n",
       "    }\n",
       "</style>\n",
       "<table border=\"1\" class=\"dataframe\">\n",
       "  <thead>\n",
       "    <tr style=\"text-align: right;\">\n",
       "      <th></th>\n",
       "      <th>category</th>\n",
       "      <th>unprotected</th>\n",
       "      <th>protected</th>\n",
       "      <th>protected_percent</th>\n",
       "    </tr>\n",
       "  </thead>\n",
       "  <tbody>\n",
       "    <tr>\n",
       "      <th>0</th>\n",
       "      <td>Amphibian</td>\n",
       "      <td>72</td>\n",
       "      <td>7</td>\n",
       "      <td>8.860759</td>\n",
       "    </tr>\n",
       "    <tr>\n",
       "      <th>1</th>\n",
       "      <td>Bird</td>\n",
       "      <td>413</td>\n",
       "      <td>75</td>\n",
       "      <td>15.368852</td>\n",
       "    </tr>\n",
       "    <tr>\n",
       "      <th>2</th>\n",
       "      <td>Fish</td>\n",
       "      <td>115</td>\n",
       "      <td>11</td>\n",
       "      <td>8.730159</td>\n",
       "    </tr>\n",
       "    <tr>\n",
       "      <th>3</th>\n",
       "      <td>Mammal</td>\n",
       "      <td>146</td>\n",
       "      <td>30</td>\n",
       "      <td>17.045455</td>\n",
       "    </tr>\n",
       "    <tr>\n",
       "      <th>4</th>\n",
       "      <td>Nonvascular Plant</td>\n",
       "      <td>328</td>\n",
       "      <td>5</td>\n",
       "      <td>1.501502</td>\n",
       "    </tr>\n",
       "    <tr>\n",
       "      <th>5</th>\n",
       "      <td>Reptile</td>\n",
       "      <td>73</td>\n",
       "      <td>5</td>\n",
       "      <td>6.410256</td>\n",
       "    </tr>\n",
       "    <tr>\n",
       "      <th>6</th>\n",
       "      <td>Vascular Plant</td>\n",
       "      <td>4216</td>\n",
       "      <td>46</td>\n",
       "      <td>1.079305</td>\n",
       "    </tr>\n",
       "  </tbody>\n",
       "</table>\n",
       "</div>"
      ],
      "text/plain": [
       "            category  unprotected  protected  protected_percent\n",
       "0          Amphibian           72          7           8.860759\n",
       "1               Bird          413         75          15.368852\n",
       "2               Fish          115         11           8.730159\n",
       "3             Mammal          146         30          17.045455\n",
       "4  Nonvascular Plant          328          5           1.501502\n",
       "5            Reptile           73          5           6.410256\n",
       "6     Vascular Plant         4216         46           1.079305"
      ]
     },
     "execution_count": 50,
     "metadata": {},
     "output_type": "execute_result"
    }
   ],
   "source": [
    "df_species['is_protected'] = df_species.conservation_status.ne('Not of Concern')\n",
    "protected_category = df_species.groupby(['category','is_protected']).scientific_name.nunique().unstack().reset_index()\n",
    "protected_category.columns = ['category', 'unprotected','protected']\n",
    "protected_category['protected_percent'] = 100*(protected_category.protected / (protected_category.protected + protected_category.unprotected))\n",
    "\n",
    "protected_category"
   ]
  },
  {
   "cell_type": "markdown",
   "metadata": {},
   "source": [
    "From this, we see that some animals are more likely to be endangered than others - around `15%` of birds and `17%` of mammals are endangered in some capacity, whereas only `1%` of vascular plants and `1.5%` of nonvascular plants are endangered."
   ]
  },
  {
   "cell_type": "markdown",
   "metadata": {},
   "source": [
    "### Statistical Significance of Species and Conservation Status\n",
    "\n",
    "In this section we seek to answer: \"Are the differences between species and their conservation status significant?\". To do this, we'll perform a chi-squared test.\n",
    "\n",
    "In our contigency tests, we'll build a contigency table based on two categories of species and their protection status.\n",
    "\n",
    "Firstly, for mammals vs birds: is there a statistically significant difference between number of protected mammals vs number of protected birds?\n",
    "\n",
    "||protected|not protected|\n",
    "|-|-|-|\n",
    "|Mammal|30|146|\n",
    "|Bird|75|413|"
   ]
  },
  {
   "cell_type": "code",
   "execution_count": 51,
   "metadata": {},
   "outputs": [
    {
     "data": {
      "text/plain": [
       "Chi2ContingencyResult(statistic=0.1617014831654557, pvalue=0.6875948096661336, dof=1, expected_freq=array([[ 27.8313253, 148.1686747],\n",
       "       [ 77.1686747, 410.8313253]]))"
      ]
     },
     "execution_count": 51,
     "metadata": {},
     "output_type": "execute_result"
    }
   ],
   "source": [
    "from scipy.stats import chi2_contingency\n",
    "\n",
    "contingency1 = [[30, 146],\n",
    "              [75, 413]]\n",
    "chi2_contingency(contingency1)"
   ]
  },
  {
   "cell_type": "markdown",
   "metadata": {},
   "source": [
    "The important value we're looking for here is the p-value. If the p-value is under a certain number (usually `0.05`), we say that the differences are statistically significant. \n",
    "\n",
    "We see that the p-value between mammals and birds is `0.688`, which is much higher than `0.05`, so the difference is not statistically significant. We expected this, really, as the percentages of protected birds/mammals are similar, at `15%` and `17%` protected species respectively."
   ]
  },
  {
   "cell_type": "markdown",
   "metadata": {},
   "source": [
    "Let's check something with a bigger difference, to see whether the difference is significant, for example between mammals and vascular plants.\n",
    "\n",
    "||protected|not protected|\n",
    "|-|-|-|\n",
    "|Mammal|30|146|\n",
    "|Vascular Plant|46|4216|\n",
    "\n",
    "With the major differences in percentages, and the high number of vascular plants giving a more accurate reading, we expect this to be statistically significant."
   ]
  },
  {
   "cell_type": "code",
   "execution_count": 52,
   "metadata": {},
   "outputs": [
    {
     "data": {
      "text/plain": [
       "Chi2ContingencyResult(statistic=246.5870424874456, pvalue=1.4405067309854046e-55, dof=1, expected_freq=array([[3.01397026e+00, 1.72986030e+02],\n",
       "       [7.29860297e+01, 4.18901397e+03]]))"
      ]
     },
     "execution_count": 52,
     "metadata": {},
     "output_type": "execute_result"
    }
   ],
   "source": [
    "contingency2 = [[30, 146],\n",
    "              [46, 4216]]\n",
    "chi2_contingency(contingency2)"
   ]
  },
  {
   "cell_type": "markdown",
   "metadata": {},
   "source": [
    "The p-value for this is `1.44e-55`, or `1.44 * 10^-55 = 0.000000....0000144 <<< 0.05` is very much statistically significant - it is much smaller than `0.05`."
   ]
  }
 ],
 "metadata": {
  "kernelspec": {
   "display_name": "Python 3",
   "language": "python",
   "name": "python3"
  },
  "language_info": {
   "codemirror_mode": {
    "name": "ipython",
    "version": 3
   },
   "file_extension": ".py",
   "mimetype": "text/x-python",
   "name": "python",
   "nbconvert_exporter": "python",
   "pygments_lexer": "ipython3",
   "version": "3.8.6"
  }
 },
 "nbformat": 4,
 "nbformat_minor": 4
}
