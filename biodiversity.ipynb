{
 "cells": [
  {
   "cell_type": "markdown",
   "metadata": {},
   "source": [
    "## Introduction\n",
    "\n",
    "This is an analysis of data from the National Parks Service about endangered species in different parks.\n",
    "\n",
    "This goal of this project is to analyze biodiversity data from the National Parks Service, particularly around various species observed in different national park locations. In our hypothetical scenario, we're a biodiversity analyst working for the National Park Service, and the National Park Service wants to ensure the survival of species at risk, to maintain the parks' biodiversity.\n",
    "\n",
    "This project will scope, analyze, prepare, plot data, and seek to explain the findings from the analysis.\n",
    "\n",
    "Here's a few questions that we want to answer with this project:\n",
    "\n",
    "    What is the distribution of conservation status for species?\n",
    "    Are certain types of species more likely to be endangered?\n",
    "    Are the differences between species and their conservation status significant?\n",
    "    Which animal is most prevalent and what is their distribution amongst parks?\n",
    "\n",
    "Data sources:\n",
    "\n",
    "`observations.csv` and `species_info.csv` were sourced from https://content.codecademy.com/PRO/paths/data-science/biodiversity-solution.zip\n",
    "\n",
    "Note: While inspired by real data, the data here is mostly fictional.\n",
    "\n"
   ]
  },
  {
   "cell_type": "markdown",
   "metadata": {},
   "source": [
    "## Scoping\n",
    "\n",
    "Here we decide the scope of this project. We do this through 4 different categories - Project Goals, Data, Analysis and Evaluation\n",
    "\n",
    "### Project Goals\n",
    "\n",
    "In our hypothetical scenario, we're a biodiversity analyst working for the National Park Service, and the National Park Service wants to ensure the survival of species at risk, to maintain the parks' biodiversity.\n",
    "\n",
    "As described in the introduction, we have a few questions that we want to answer:\n",
    "\n",
    "    What is the distribution of conservation status for species?\n",
    "    Are certain types of species more likely to be endangered?\n",
    "    Are the differences between species and their conservation status significant?\n",
    "    Which animal is most prevalent and what is their distribution amongst parks?\n",
    "\n",
    "### Data\n",
    "\n",
    "We have access to two csv files. `observations.csv` relates to the observations of species in park locations, and `species_info.csv` relates to information about different species. We'll get into more detail about these once the project is started.\n",
    "\n",
    "### Analysis\n",
    "\n",
    "We'll be using a number of different analysis tools, namely we want to use descriptive statistics, data visualisation and statistical inference to achieve our project goals. We'll be computing distributions, counts, relationship between species, conservation status of species and observations of species in parks.\n",
    "\n",
    "### Evaluation\n",
    "\n",
    "Lastly, once we've analysed our data, we want to evaluate our findings, ask if we've answered the questions set out in the project goals, as well as any problems or shortcomings of the data we had available or the methods we've used."
   ]
  },
  {
   "cell_type": "markdown",
   "metadata": {},
   "source": [
    "## Import modules\n",
    "\n",
    "Here we import any important modules for the project.\n",
    "\n",
    "`numpy` is for numerical manipulation,\n",
    "`pandas` is for data manipulation,\n",
    "`pyplot` and `seaborn` are for plotting data."
   ]
  },
  {
   "cell_type": "code",
   "execution_count": 1,
   "metadata": {},
   "outputs": [],
   "source": [
    "import numpy as np\n",
    "import pandas as pd\n",
    "from matplotlib import pyplot as plt\n",
    "import seaborn as sns"
   ]
  },
  {
   "cell_type": "markdown",
   "metadata": {},
   "source": [
    "## Loading the Data\n",
    "\n",
    "Let's read our data and see what we have:\n",
    "\n",
    "### species_info.csv"
   ]
  },
  {
   "cell_type": "code",
   "execution_count": 2,
   "metadata": {},
   "outputs": [
    {
     "data": {
      "text/html": [
       "<div>\n",
       "<style scoped>\n",
       "    .dataframe tbody tr th:only-of-type {\n",
       "        vertical-align: middle;\n",
       "    }\n",
       "\n",
       "    .dataframe tbody tr th {\n",
       "        vertical-align: top;\n",
       "    }\n",
       "\n",
       "    .dataframe thead th {\n",
       "        text-align: right;\n",
       "    }\n",
       "</style>\n",
       "<table border=\"1\" class=\"dataframe\">\n",
       "  <thead>\n",
       "    <tr style=\"text-align: right;\">\n",
       "      <th></th>\n",
       "      <th>category</th>\n",
       "      <th>scientific_name</th>\n",
       "      <th>common_names</th>\n",
       "      <th>conservation_status</th>\n",
       "    </tr>\n",
       "  </thead>\n",
       "  <tbody>\n",
       "    <tr>\n",
       "      <th>0</th>\n",
       "      <td>Mammal</td>\n",
       "      <td>Clethrionomys gapperi gapperi</td>\n",
       "      <td>Gapper's Red-Backed Vole</td>\n",
       "      <td>NaN</td>\n",
       "    </tr>\n",
       "    <tr>\n",
       "      <th>1</th>\n",
       "      <td>Mammal</td>\n",
       "      <td>Bos bison</td>\n",
       "      <td>American Bison, Bison</td>\n",
       "      <td>NaN</td>\n",
       "    </tr>\n",
       "    <tr>\n",
       "      <th>2</th>\n",
       "      <td>Mammal</td>\n",
       "      <td>Bos taurus</td>\n",
       "      <td>Aurochs, Aurochs, Domestic Cattle (Feral), Dom...</td>\n",
       "      <td>NaN</td>\n",
       "    </tr>\n",
       "    <tr>\n",
       "      <th>3</th>\n",
       "      <td>Mammal</td>\n",
       "      <td>Ovis aries</td>\n",
       "      <td>Domestic Sheep, Mouflon, Red Sheep, Sheep (Feral)</td>\n",
       "      <td>NaN</td>\n",
       "    </tr>\n",
       "    <tr>\n",
       "      <th>4</th>\n",
       "      <td>Mammal</td>\n",
       "      <td>Cervus elaphus</td>\n",
       "      <td>Wapiti Or Elk</td>\n",
       "      <td>NaN</td>\n",
       "    </tr>\n",
       "  </tbody>\n",
       "</table>\n",
       "</div>"
      ],
      "text/plain": [
       "  category                scientific_name  \\\n",
       "0   Mammal  Clethrionomys gapperi gapperi   \n",
       "1   Mammal                      Bos bison   \n",
       "2   Mammal                     Bos taurus   \n",
       "3   Mammal                     Ovis aries   \n",
       "4   Mammal                 Cervus elaphus   \n",
       "\n",
       "                                        common_names conservation_status  \n",
       "0                           Gapper's Red-Backed Vole                 NaN  \n",
       "1                              American Bison, Bison                 NaN  \n",
       "2  Aurochs, Aurochs, Domestic Cattle (Feral), Dom...                 NaN  \n",
       "3  Domestic Sheep, Mouflon, Red Sheep, Sheep (Feral)                 NaN  \n",
       "4                                      Wapiti Or Elk                 NaN  "
      ]
     },
     "execution_count": 2,
     "metadata": {},
     "output_type": "execute_result"
    }
   ],
   "source": [
    "df_species = pd.read_csv('species_info.csv')\n",
    "df_species.head()"
   ]
  },
  {
   "cell_type": "markdown",
   "metadata": {},
   "source": [
    "`species_info.csv` has info about different species, with columns:\n",
    "1. `category` - category of species (eg. mammal, bird, reptile, vascular plant)\n",
    "1. `scientific_name` - scientific name of the species\n",
    "1. `common_name` - any other names that the animal may be reffered to as, sometimes seperated by commas but also by 'Or'\n",
    "1. `conservation_status` - their conservation status (whether endangered or not, see https://en.wikipedia.org/wiki/Endangered_species for more info).\n",
    "\n",
    "### observations.csv"
   ]
  },
  {
   "cell_type": "code",
   "execution_count": 3,
   "metadata": {},
   "outputs": [
    {
     "data": {
      "text/html": [
       "<div>\n",
       "<style scoped>\n",
       "    .dataframe tbody tr th:only-of-type {\n",
       "        vertical-align: middle;\n",
       "    }\n",
       "\n",
       "    .dataframe tbody tr th {\n",
       "        vertical-align: top;\n",
       "    }\n",
       "\n",
       "    .dataframe thead th {\n",
       "        text-align: right;\n",
       "    }\n",
       "</style>\n",
       "<table border=\"1\" class=\"dataframe\">\n",
       "  <thead>\n",
       "    <tr style=\"text-align: right;\">\n",
       "      <th></th>\n",
       "      <th>scientific_name</th>\n",
       "      <th>park_name</th>\n",
       "      <th>observations</th>\n",
       "    </tr>\n",
       "  </thead>\n",
       "  <tbody>\n",
       "    <tr>\n",
       "      <th>0</th>\n",
       "      <td>Vicia benghalensis</td>\n",
       "      <td>Great Smoky Mountains National Park</td>\n",
       "      <td>68</td>\n",
       "    </tr>\n",
       "    <tr>\n",
       "      <th>1</th>\n",
       "      <td>Neovison vison</td>\n",
       "      <td>Great Smoky Mountains National Park</td>\n",
       "      <td>77</td>\n",
       "    </tr>\n",
       "    <tr>\n",
       "      <th>2</th>\n",
       "      <td>Prunus subcordata</td>\n",
       "      <td>Yosemite National Park</td>\n",
       "      <td>138</td>\n",
       "    </tr>\n",
       "    <tr>\n",
       "      <th>3</th>\n",
       "      <td>Abutilon theophrasti</td>\n",
       "      <td>Bryce National Park</td>\n",
       "      <td>84</td>\n",
       "    </tr>\n",
       "    <tr>\n",
       "      <th>4</th>\n",
       "      <td>Githopsis specularioides</td>\n",
       "      <td>Great Smoky Mountains National Park</td>\n",
       "      <td>85</td>\n",
       "    </tr>\n",
       "  </tbody>\n",
       "</table>\n",
       "</div>"
      ],
      "text/plain": [
       "            scientific_name                            park_name  observations\n",
       "0        Vicia benghalensis  Great Smoky Mountains National Park            68\n",
       "1            Neovison vison  Great Smoky Mountains National Park            77\n",
       "2         Prunus subcordata               Yosemite National Park           138\n",
       "3      Abutilon theophrasti                  Bryce National Park            84\n",
       "4  Githopsis specularioides  Great Smoky Mountains National Park            85"
      ]
     },
     "execution_count": 3,
     "metadata": {},
     "output_type": "execute_result"
    }
   ],
   "source": [
    "df_obs = pd.read_csv('observations.csv')\n",
    "df_obs.head()"
   ]
  },
  {
   "cell_type": "markdown",
   "metadata": {},
   "source": [
    "'observations.csv', has a list of different species paired with the national park they were spotted at. This is then paired with the number of observations of this species at this park. According to the description, this is observations over the past 7 days. It has columns:\n",
    "\n",
    "1. scientific_name - scientific name of the species, as seen on 'species_info.csv'\n",
    "1. park_name - which park this species has been spotted at\n",
    "1. observations - how many observations of this animal in the past 7 days"
   ]
  },
  {
   "cell_type": "markdown",
   "metadata": {},
   "source": [
    "### Dimensions\n",
    "\n",
    "Next we check how many rows and columns each data set has."
   ]
  },
  {
   "cell_type": "code",
   "execution_count": 4,
   "metadata": {},
   "outputs": [
    {
     "name": "stdout",
     "output_type": "stream",
     "text": [
      "The species dataframe has shape (5824, 4)\n",
      "The observations dataframe has shape (23296, 3)\n"
     ]
    }
   ],
   "source": [
    "print(f\"The species dataframe has shape {df_species.shape}\")\n",
    "print(f\"The observations dataframe has shape {df_obs.shape}\")"
   ]
  },
  {
   "cell_type": "markdown",
   "metadata": {},
   "source": [
    "So we see that the species dataframe has 5824 rows and 4 columns, and the observations dataframe has 23296 rows and 3 columns.\n",
    "\n",
    "## Exploring the Data\n",
    "\n",
    "We'd like to know a little more about our data sets, starting with the species dataframe. How many unique species do we have?"
   ]
  },
  {
   "cell_type": "code",
   "execution_count": 5,
   "metadata": {},
   "outputs": [
    {
     "name": "stdout",
     "output_type": "stream",
     "text": [
      "Unique number of species in the species dataframe:5541\n"
     ]
    }
   ],
   "source": [
    "print(f\"Unique number of species in the species dataframe:{df_species.scientific_name.nunique()}\")"
   ]
  },
  {
   "cell_type": "markdown",
   "metadata": {},
   "source": [
    "Next, we want to know how many and what categories we have for the `category` column. Let's check:"
   ]
  },
  {
   "cell_type": "code",
   "execution_count": 6,
   "metadata": {},
   "outputs": [
    {
     "name": "stdout",
     "output_type": "stream",
     "text": [
      "How many categories of species: 7\n",
      "\n",
      "What categories of species: ['Mammal' 'Bird' 'Reptile' 'Amphibian' 'Fish' 'Vascular Plant'\n",
      " 'Nonvascular Plant']\n",
      "\n",
      "How many of each category do we have?\n"
     ]
    },
    {
     "data": {
      "text/plain": [
       "category\n",
       "Amphibian              80\n",
       "Bird                  521\n",
       "Fish                  127\n",
       "Mammal                214\n",
       "Nonvascular Plant     333\n",
       "Reptile                79\n",
       "Vascular Plant       4470\n",
       "dtype: int64"
      ]
     },
     "execution_count": 6,
     "metadata": {},
     "output_type": "execute_result"
    }
   ],
   "source": [
    "print(f\"How many categories of species: {df_species.category.nunique()}\")\n",
    "print(f\"\\nWhat categories of species: {df_species.category.unique()}\")\n",
    "print(\"\\nHow many of each category do we have?\")\n",
    "df_species.groupby(\"category\").size()"
   ]
  },
  {
   "cell_type": "markdown",
   "metadata": {},
   "source": [
    "We can see based on this that *most* of the species are actually vascular plants, with 4470. We also have a lot of birds and nonvascular plants, but not many reptiles - only 79.\n",
    "\n",
    "We should also have a look at the `conservation_status` column: what does it look like?"
   ]
  },
  {
   "cell_type": "code",
   "execution_count": 7,
   "metadata": {},
   "outputs": [
    {
     "name": "stdout",
     "output_type": "stream",
     "text": [
      "Unique number of conservation status: 4\n",
      "What conservation statuses: [nan 'Species of Concern' 'Endangered' 'Threatened' 'In Recovery']\n"
     ]
    }
   ],
   "source": [
    "print(f\"Unique number of conservation status: {df_species.conservation_status.nunique()}\")\n",
    "print(f\"What conservation statuses: {df_species.conservation_status.unique()}\")"
   ]
  },
  {
   "cell_type": "markdown",
   "metadata": {},
   "source": [
    "We see that we have some `NaN` in our `conservation_status` column - these actually mean that the species is not endangered. We'll deal with this later in our analysis section. For now, we'll see how much of each conservation status we have:"
   ]
  },
  {
   "cell_type": "code",
   "execution_count": 8,
   "metadata": {},
   "outputs": [
    {
     "name": "stdout",
     "output_type": "stream",
     "text": [
      "conservation_status\n",
      "Endangered             16\n",
      "In Recovery             4\n",
      "Species of Concern    161\n",
      "Threatened             10\n",
      "dtype: int64\n",
      "Number of NaN values: 5633\n"
     ]
    }
   ],
   "source": [
    "print(df_species.groupby(\"conservation_status\").size())\n",
    "print(f\"Number of NaN values: {df_species.conservation_status.isna().sum()}\")"
   ]
  },
  {
   "cell_type": "markdown",
   "metadata": {},
   "source": [
    "We see that *most* of our species are not endangered - there are 5633 `NaN` values. However, 161 of our species are of concern, 10 are threatened, 16 are endangered and 4 are in recovery.\n",
    "\n",
    "### observations.csv\n",
    "\n",
    "Next we turn our attention to the observations dataframe. We're interested in the parks in the data set, referred to in the `park_name` column. How many and what parks are there?"
   ]
  },
  {
   "cell_type": "code",
   "execution_count": 9,
   "metadata": {},
   "outputs": [
    {
     "name": "stdout",
     "output_type": "stream",
     "text": [
      "How many parks: 4\n",
      "Names of parks: ['Great Smoky Mountains National Park' 'Yosemite National Park'\n",
      " 'Bryce National Park' 'Yellowstone National Park']\n"
     ]
    }
   ],
   "source": [
    "print(f\"How many parks: {df_obs.park_name.nunique()}\")\n",
    "print(f\"Names of parks: {df_obs.park_name.unique()}\")"
   ]
  },
  {
   "cell_type": "markdown",
   "metadata": {},
   "source": [
    "We see there's four parks in the data set - Great Smoky Mountains, Yosemite, Bryce and Yellowstone.\n",
    "\n",
    "It'd also be great to know how many total observations there were:"
   ]
  },
  {
   "cell_type": "code",
   "execution_count": 10,
   "metadata": {},
   "outputs": [
    {
     "name": "stdout",
     "output_type": "stream",
     "text": [
      "Total observations: 3314739\n"
     ]
    }
   ],
   "source": [
    "print(f\"Total observations: {df_obs.observations.sum()}\")"
   ]
  },
  {
   "cell_type": "markdown",
   "metadata": {},
   "source": [
    "We see there's over 3.3 million total observations over the 7 day timeframe. This is a lot of data points."
   ]
  },
  {
   "cell_type": "markdown",
   "metadata": {},
   "source": [
    "## Analysis\n",
    "\n",
    "The first objective I have is, as mentioned in the exploration section, to replace the `NaN` in the `conservation_status` column of the species dataframe, as this refers to animals that aren't of concern in terms of endangerment. So we'll replace `NaN` with `Not of Concern`."
   ]
  },
  {
   "cell_type": "code",
   "execution_count": 11,
   "metadata": {},
   "outputs": [
    {
     "name": "stdout",
     "output_type": "stream",
     "text": [
      "conservation_status\n",
      "Endangered              16\n",
      "In Recovery              4\n",
      "Not of Concern        5633\n",
      "Species of Concern     161\n",
      "Threatened              10\n",
      "dtype: int64\n"
     ]
    }
   ],
   "source": [
    "df_species.fillna('Not of Concern', inplace=True)\n",
    "print(df_species.groupby(\"conservation_status\").size())"
   ]
  },
  {
   "cell_type": "markdown",
   "metadata": {},
   "source": [
    "### Distribution of conservation status\n",
    "\n",
    "Next, we'll have a look at the makeup of each `conservation_status` relating to each `category` of species. How many mammals, birds, reptiles, etc. are endangered? This will help to resolve our question \"What is the distribution of conservation status for species?\""
   ]
  },
  {
   "cell_type": "code",
   "execution_count": 12,
   "metadata": {},
   "outputs": [
    {
     "data": {
      "text/plain": [
       "Index(['Amphibian', 'Bird', 'Fish', 'Mammal', 'Nonvascular Plant', 'Reptile',\n",
       "       'Vascular Plant'],\n",
       "      dtype='object', name='category')"
      ]
     },
     "execution_count": 12,
     "metadata": {},
     "output_type": "execute_result"
    }
   ],
   "source": [
    "conservation_with_category = df_species.groupby(['conservation_status','category']).scientific_name.count().unstack()\n",
    "conservation_with_category.columns"
   ]
  },
  {
   "cell_type": "markdown",
   "metadata": {},
   "source": [
    "We can see that no nonvascular plants or reptiles are above species of concern on the conservation status. 7 mammals, 4 birds, 3 fish, 1 amphibian and 1 vascular plant are endangered. Let's plot to see more. Not of Concern is much larger than the other categories so we'll plot this seperately."
   ]
  },
  {
   "cell_type": "code",
   "execution_count": 13,
   "metadata": {},
   "outputs": [
    {
     "data": {
      "text/plain": [
       "<Axes: xlabel='conservation_status'>"
      ]
     },
     "execution_count": 13,
     "metadata": {},
     "output_type": "execute_result"
    },
    {
     "data": {
      "image/png": "[encoded data removed]",
      "text/plain": [
       "<Figure size 700x500 with 1 Axes>"
      ]
     },
     "metadata": {},
     "output_type": "display_data"
    },
    {
     "data": {
      "image/png": "[encoded data removed]",
      "text/plain": [
       "<Figure size 600x500 with 1 Axes>"
      ]
     },
     "metadata": {},
     "output_type": "display_data"
    }
   ],
   "source": [
    "conservation_with_category.drop(index=['Not of Concern']).plot(stacked=True,kind='bar',figsize=(7,5))\n",
    "conservation_with_category.drop(index=['Endangered','In Recovery','Species of Concern','Threatened']).plot(stacked=True,kind='bar',figsize=(6,5), width=.1)"
   ]
  },
  {
   "cell_type": "markdown",
   "metadata": {},
   "source": [
    "This answers our question \"What is the distribution of conservation status for species?\".\n",
    "\n",
    "### Likelihood of Conservation Status\n",
    "\n",
    "Next we ask the question: \"Are certain types of species more likely to be endangered?\". We do this by finding the proportion of each category that have some kind of conservation status."
   ]
  },
  {
   "cell_type": "code",
   "execution_count": 14,
   "metadata": {},
   "outputs": [
    {
     "data": {
      "text/html": [
       "<div>\n",
       "<style scoped>\n",
       "    .dataframe tbody tr th:only-of-type {\n",
       "        vertical-align: middle;\n",
       "    }\n",
       "\n",
       "    .dataframe tbody tr th {\n",
       "        vertical-align: top;\n",
       "    }\n",
       "\n",
       "    .dataframe thead th {\n",
       "        text-align: right;\n",
       "    }\n",
       "</style>\n",
       "<table border=\"1\" class=\"dataframe\">\n",
       "  <thead>\n",
       "    <tr style=\"text-align: right;\">\n",
       "      <th></th>\n",
       "      <th>category</th>\n",
       "      <th>unprotected</th>\n",
       "      <th>protected</th>\n",
       "      <th>protected_percent</th>\n",
       "    </tr>\n",
       "  </thead>\n",
       "  <tbody>\n",
       "    <tr>\n",
       "      <th>0</th>\n",
       "      <td>Amphibian</td>\n",
       "      <td>72</td>\n",
       "      <td>7</td>\n",
       "      <td>8.860759</td>\n",
       "    </tr>\n",
       "    <tr>\n",
       "      <th>1</th>\n",
       "      <td>Bird</td>\n",
       "      <td>413</td>\n",
       "      <td>75</td>\n",
       "      <td>15.368852</td>\n",
       "    </tr>\n",
       "    <tr>\n",
       "      <th>2</th>\n",
       "      <td>Fish</td>\n",
       "      <td>115</td>\n",
       "      <td>11</td>\n",
       "      <td>8.730159</td>\n",
       "    </tr>\n",
       "    <tr>\n",
       "      <th>3</th>\n",
       "      <td>Mammal</td>\n",
       "      <td>146</td>\n",
       "      <td>30</td>\n",
       "      <td>17.045455</td>\n",
       "    </tr>\n",
       "    <tr>\n",
       "      <th>4</th>\n",
       "      <td>Nonvascular Plant</td>\n",
       "      <td>328</td>\n",
       "      <td>5</td>\n",
       "      <td>1.501502</td>\n",
       "    </tr>\n",
       "    <tr>\n",
       "      <th>5</th>\n",
       "      <td>Reptile</td>\n",
       "      <td>73</td>\n",
       "      <td>5</td>\n",
       "      <td>6.410256</td>\n",
       "    </tr>\n",
       "    <tr>\n",
       "      <th>6</th>\n",
       "      <td>Vascular Plant</td>\n",
       "      <td>4216</td>\n",
       "      <td>46</td>\n",
       "      <td>1.079305</td>\n",
       "    </tr>\n",
       "  </tbody>\n",
       "</table>\n",
       "</div>"
      ],
      "text/plain": [
       "            category  unprotected  protected  protected_percent\n",
       "0          Amphibian           72          7           8.860759\n",
       "1               Bird          413         75          15.368852\n",
       "2               Fish          115         11           8.730159\n",
       "3             Mammal          146         30          17.045455\n",
       "4  Nonvascular Plant          328          5           1.501502\n",
       "5            Reptile           73          5           6.410256\n",
       "6     Vascular Plant         4216         46           1.079305"
      ]
     },
     "execution_count": 14,
     "metadata": {},
     "output_type": "execute_result"
    }
   ],
   "source": [
    "df_species['is_protected'] = df_species.conservation_status.ne('Not of Concern')\n",
    "protected_category = df_species.groupby(['category','is_protected']).scientific_name.nunique().unstack().reset_index()\n",
    "protected_category.columns = ['category', 'unprotected','protected']\n",
    "protected_category['protected_percent'] = 100*(protected_category.protected / (protected_category.protected + protected_category.unprotected))\n",
    "\n",
    "protected_category"
   ]
  },
  {
   "cell_type": "markdown",
   "metadata": {},
   "source": [
    "From this, we see that some animals are more likely to be endangered than others - around `15%` of birds and `17%` of mammals are endangered in some capacity, whereas only `1%` of vascular plants and `1.5%` of nonvascular plants are endangered."
   ]
  },
  {
   "cell_type": "markdown",
   "metadata": {},
   "source": [
    "### Statistical Significance of Species and Conservation Status\n",
    "\n",
    "In this section we seek to answer: \"Are the differences between species and their conservation status significant?\". To do this, we'll perform a chi-squared test.\n",
    "\n",
    "In our contigency tests, we'll build a contigency table based on two categories of species and their protection status.\n",
    "\n",
    "Firstly, for mammals vs birds: is there a statistically significant difference between number of protected mammals vs number of protected birds?\n",
    "\n",
    "||protected|not protected|\n",
    "|-|-|-|\n",
    "|Mammal|30|146|\n",
    "|Bird|75|413|"
   ]
  },
  {
   "cell_type": "code",
   "execution_count": 15,
   "metadata": {},
   "outputs": [
    {
     "data": {
      "text/plain": [
       "Chi2ContingencyResult(statistic=0.1617014831654557, pvalue=0.6875948096661336, dof=1, expected_freq=array([[ 27.8313253, 148.1686747],\n",
       "       [ 77.1686747, 410.8313253]]))"
      ]
     },
     "execution_count": 15,
     "metadata": {},
     "output_type": "execute_result"
    }
   ],
   "source": [
    "from scipy.stats import chi2_contingency\n",
    "\n",
    "contingency1 = [[30, 146],\n",
    "              [75, 413]]\n",
    "chi2_contingency(contingency1)"
   ]
  },
  {
   "cell_type": "markdown",
   "metadata": {},
   "source": [
    "The important value we're looking for here is the p-value. If the p-value is under a certain number (usually `0.05`), we say that the differences are statistically significant. \n",
    "\n",
    "We see that the p-value between mammals and birds is `0.688`, which is much higher than `0.05`, so the difference is not statistically significant. We expected this, really, as the percentages of protected birds/mammals are similar, at `15%` and `17%` protected species respectively."
   ]
  },
  {
   "cell_type": "markdown",
   "metadata": {},
   "source": [
    "Let's check something with a bigger difference, to see whether the difference is significant, for example between mammals and vascular plants.\n",
    "\n",
    "||protected|not protected|\n",
    "|-|-|-|\n",
    "|Mammal|30|146|\n",
    "|Vascular Plant|46|4216|\n",
    "\n",
    "With the major differences in percentages (`1%` vs `17%`), and the high number of species of vascular plants giving a more accurate reading, we expect this to be statistically significant."
   ]
  },
  {
   "cell_type": "code",
   "execution_count": 16,
   "metadata": {},
   "outputs": [
    {
     "data": {
      "text/plain": [
       "Chi2ContingencyResult(statistic=246.5870424874456, pvalue=1.4405067309854046e-55, dof=1, expected_freq=array([[3.01397026e+00, 1.72986030e+02],\n",
       "       [7.29860297e+01, 4.18901397e+03]]))"
      ]
     },
     "execution_count": 16,
     "metadata": {},
     "output_type": "execute_result"
    }
   ],
   "source": [
    "contingency2 = [[30, 146],\n",
    "              [46, 4216]]\n",
    "chi2_contingency(contingency2)"
   ]
  },
  {
   "cell_type": "markdown",
   "metadata": {},
   "source": [
    "The p-value for this is `1.44e-55`, or `1.44 * 10^-55 = 0.000000....0000144 <<< 0.05` is very much statistically significant - it is much smaller than `0.05`. So the difference in proportions of protected mammals and vascular plants *is* statistically significant, i.e. we have reason to believe that the difference in numbers is down to external factors rather than just statistical variance."
   ]
  },
  {
   "cell_type": "markdown",
   "metadata": {},
   "source": [
    "### Distribution among parks\n",
    "\n",
    "Finally we answer the question \"Which animal is most prevalent and what is their distribution amongst parks?\", using our second data set.\n",
    "\n",
    "Firstly, we find out which species have the most observations over all parks."
   ]
  },
  {
   "cell_type": "code",
   "execution_count": 78,
   "metadata": {},
   "outputs": [
    {
     "data": {
      "text/plain": [
       "scientific_name\n",
       "Streptopelia decaocto    1785\n",
       "Holcus lanatus           1780\n",
       "Castor canadensis        1725\n",
       "Hypochaeris radicata     1720\n",
       "Puma concolor            1711\n",
       "Procyon lotor            1692\n",
       "Columba livia            1653\n",
       "Myotis lucifugus         1547\n",
       "Bidens tripartita        1296\n",
       "Oxalis dillenii          1276\n",
       "Name: observations, dtype: int64"
      ]
     },
     "execution_count": 78,
     "metadata": {},
     "output_type": "execute_result"
    }
   ],
   "source": [
    "popular_observations = df_obs.groupby(['scientific_name']).observations.sum().nlargest(10)\n",
    "\n",
    "popular_observations"
   ]
  },
  {
   "cell_type": "markdown",
   "metadata": {},
   "source": [
    "Now we know which species are the most popular, what are they? We'll need to consult our other data set."
   ]
  },
  {
   "cell_type": "code",
   "execution_count": 79,
   "metadata": {},
   "outputs": [
    {
     "data": {
      "text/html": [
       "<div>\n",
       "<style scoped>\n",
       "    .dataframe tbody tr th:only-of-type {\n",
       "        vertical-align: middle;\n",
       "    }\n",
       "\n",
       "    .dataframe tbody tr th {\n",
       "        vertical-align: top;\n",
       "    }\n",
       "\n",
       "    .dataframe thead th {\n",
       "        text-align: right;\n",
       "    }\n",
       "</style>\n",
       "<table border=\"1\" class=\"dataframe\">\n",
       "  <thead>\n",
       "    <tr style=\"text-align: right;\">\n",
       "      <th></th>\n",
       "      <th>scientific_name</th>\n",
       "      <th>observations</th>\n",
       "      <th>category</th>\n",
       "      <th>common_names</th>\n",
       "      <th>conservation_status</th>\n",
       "      <th>is_protected</th>\n",
       "    </tr>\n",
       "  </thead>\n",
       "  <tbody>\n",
       "    <tr>\n",
       "      <th>0</th>\n",
       "      <td>Streptopelia decaocto</td>\n",
       "      <td>1785</td>\n",
       "      <td>Bird</td>\n",
       "      <td>Eurasian Collared-Dove</td>\n",
       "      <td>Not of Concern</td>\n",
       "      <td>False</td>\n",
       "    </tr>\n",
       "    <tr>\n",
       "      <th>1</th>\n",
       "      <td>Streptopelia decaocto</td>\n",
       "      <td>1785</td>\n",
       "      <td>Bird</td>\n",
       "      <td>Eurasian Collared Dove, Eurasian Collared-Dove</td>\n",
       "      <td>Not of Concern</td>\n",
       "      <td>False</td>\n",
       "    </tr>\n",
       "    <tr>\n",
       "      <th>2</th>\n",
       "      <td>Streptopelia decaocto</td>\n",
       "      <td>1785</td>\n",
       "      <td>Bird</td>\n",
       "      <td>Eurasian Collared Dove</td>\n",
       "      <td>Not of Concern</td>\n",
       "      <td>False</td>\n",
       "    </tr>\n",
       "    <tr>\n",
       "      <th>3</th>\n",
       "      <td>Holcus lanatus</td>\n",
       "      <td>1780</td>\n",
       "      <td>Vascular Plant</td>\n",
       "      <td>Common Velvet Grass, Velvetgrass</td>\n",
       "      <td>Not of Concern</td>\n",
       "      <td>False</td>\n",
       "    </tr>\n",
       "    <tr>\n",
       "      <th>4</th>\n",
       "      <td>Holcus lanatus</td>\n",
       "      <td>1780</td>\n",
       "      <td>Vascular Plant</td>\n",
       "      <td>Common Velvetgrass, Yorkshire-Fog</td>\n",
       "      <td>Not of Concern</td>\n",
       "      <td>False</td>\n",
       "    </tr>\n",
       "    <tr>\n",
       "      <th>5</th>\n",
       "      <td>Holcus lanatus</td>\n",
       "      <td>1780</td>\n",
       "      <td>Vascular Plant</td>\n",
       "      <td>Common Velvetgrass, Velvetgrass, Yorkshire Fog</td>\n",
       "      <td>Not of Concern</td>\n",
       "      <td>False</td>\n",
       "    </tr>\n",
       "    <tr>\n",
       "      <th>6</th>\n",
       "      <td>Castor canadensis</td>\n",
       "      <td>1725</td>\n",
       "      <td>Mammal</td>\n",
       "      <td>American Beaver, Beaver</td>\n",
       "      <td>Not of Concern</td>\n",
       "      <td>False</td>\n",
       "    </tr>\n",
       "    <tr>\n",
       "      <th>7</th>\n",
       "      <td>Castor canadensis</td>\n",
       "      <td>1725</td>\n",
       "      <td>Mammal</td>\n",
       "      <td>American Beaver</td>\n",
       "      <td>Not of Concern</td>\n",
       "      <td>False</td>\n",
       "    </tr>\n",
       "    <tr>\n",
       "      <th>8</th>\n",
       "      <td>Castor canadensis</td>\n",
       "      <td>1725</td>\n",
       "      <td>Mammal</td>\n",
       "      <td>Beaver</td>\n",
       "      <td>Not of Concern</td>\n",
       "      <td>False</td>\n",
       "    </tr>\n",
       "    <tr>\n",
       "      <th>9</th>\n",
       "      <td>Hypochaeris radicata</td>\n",
       "      <td>1720</td>\n",
       "      <td>Vascular Plant</td>\n",
       "      <td>Cat's Ear, Spotted Cat's-Ear</td>\n",
       "      <td>Not of Concern</td>\n",
       "      <td>False</td>\n",
       "    </tr>\n",
       "    <tr>\n",
       "      <th>10</th>\n",
       "      <td>Hypochaeris radicata</td>\n",
       "      <td>1720</td>\n",
       "      <td>Vascular Plant</td>\n",
       "      <td>Spotted Cats-Ear, Hairy Cats-Ear, Gosmore</td>\n",
       "      <td>Not of Concern</td>\n",
       "      <td>False</td>\n",
       "    </tr>\n",
       "    <tr>\n",
       "      <th>11</th>\n",
       "      <td>Hypochaeris radicata</td>\n",
       "      <td>1720</td>\n",
       "      <td>Vascular Plant</td>\n",
       "      <td>Common Cat's-Ear, False Dandelion, Frogbit, Go...</td>\n",
       "      <td>Not of Concern</td>\n",
       "      <td>False</td>\n",
       "    </tr>\n",
       "    <tr>\n",
       "      <th>12</th>\n",
       "      <td>Puma concolor</td>\n",
       "      <td>1711</td>\n",
       "      <td>Mammal</td>\n",
       "      <td>Panther (Mountain Lion)</td>\n",
       "      <td>Not of Concern</td>\n",
       "      <td>False</td>\n",
       "    </tr>\n",
       "    <tr>\n",
       "      <th>13</th>\n",
       "      <td>Puma concolor</td>\n",
       "      <td>1711</td>\n",
       "      <td>Mammal</td>\n",
       "      <td>Cougar, Mountain Lion, Puma</td>\n",
       "      <td>Not of Concern</td>\n",
       "      <td>False</td>\n",
       "    </tr>\n",
       "    <tr>\n",
       "      <th>14</th>\n",
       "      <td>Puma concolor</td>\n",
       "      <td>1711</td>\n",
       "      <td>Mammal</td>\n",
       "      <td>Mountain Lion</td>\n",
       "      <td>Not of Concern</td>\n",
       "      <td>False</td>\n",
       "    </tr>\n",
       "    <tr>\n",
       "      <th>15</th>\n",
       "      <td>Procyon lotor</td>\n",
       "      <td>1692</td>\n",
       "      <td>Mammal</td>\n",
       "      <td>Common Raccoon, Raccoon</td>\n",
       "      <td>Not of Concern</td>\n",
       "      <td>False</td>\n",
       "    </tr>\n",
       "    <tr>\n",
       "      <th>16</th>\n",
       "      <td>Procyon lotor</td>\n",
       "      <td>1692</td>\n",
       "      <td>Mammal</td>\n",
       "      <td>Common Raccoon, Northern Raccoon, Raccoon</td>\n",
       "      <td>Not of Concern</td>\n",
       "      <td>False</td>\n",
       "    </tr>\n",
       "    <tr>\n",
       "      <th>17</th>\n",
       "      <td>Procyon lotor</td>\n",
       "      <td>1692</td>\n",
       "      <td>Mammal</td>\n",
       "      <td>Raccoon</td>\n",
       "      <td>Not of Concern</td>\n",
       "      <td>False</td>\n",
       "    </tr>\n",
       "    <tr>\n",
       "      <th>18</th>\n",
       "      <td>Columba livia</td>\n",
       "      <td>1653</td>\n",
       "      <td>Bird</td>\n",
       "      <td>Rock Dove</td>\n",
       "      <td>Not of Concern</td>\n",
       "      <td>False</td>\n",
       "    </tr>\n",
       "    <tr>\n",
       "      <th>19</th>\n",
       "      <td>Columba livia</td>\n",
       "      <td>1653</td>\n",
       "      <td>Bird</td>\n",
       "      <td>Common Pigeon, Rock Dove, Rock Pigeon</td>\n",
       "      <td>Not of Concern</td>\n",
       "      <td>False</td>\n",
       "    </tr>\n",
       "    <tr>\n",
       "      <th>20</th>\n",
       "      <td>Columba livia</td>\n",
       "      <td>1653</td>\n",
       "      <td>Bird</td>\n",
       "      <td>Rock Pigeon</td>\n",
       "      <td>Not of Concern</td>\n",
       "      <td>False</td>\n",
       "    </tr>\n",
       "    <tr>\n",
       "      <th>21</th>\n",
       "      <td>Myotis lucifugus</td>\n",
       "      <td>1547</td>\n",
       "      <td>Mammal</td>\n",
       "      <td>Little Brown Bat, Little Brown Myotis</td>\n",
       "      <td>Species of Concern</td>\n",
       "      <td>True</td>\n",
       "    </tr>\n",
       "    <tr>\n",
       "      <th>22</th>\n",
       "      <td>Myotis lucifugus</td>\n",
       "      <td>1547</td>\n",
       "      <td>Mammal</td>\n",
       "      <td>Little Brown Bat, Little Brown Myotis, Little ...</td>\n",
       "      <td>Species of Concern</td>\n",
       "      <td>True</td>\n",
       "    </tr>\n",
       "    <tr>\n",
       "      <th>23</th>\n",
       "      <td>Myotis lucifugus</td>\n",
       "      <td>1547</td>\n",
       "      <td>Mammal</td>\n",
       "      <td>Little Brown Myotis</td>\n",
       "      <td>Species of Concern</td>\n",
       "      <td>True</td>\n",
       "    </tr>\n",
       "    <tr>\n",
       "      <th>24</th>\n",
       "      <td>Bidens tripartita</td>\n",
       "      <td>1296</td>\n",
       "      <td>Vascular Plant</td>\n",
       "      <td>Stick-Tight, Three-Lobe Beggar-Ticks</td>\n",
       "      <td>Not of Concern</td>\n",
       "      <td>False</td>\n",
       "    </tr>\n",
       "    <tr>\n",
       "      <th>25</th>\n",
       "      <td>Bidens tripartita</td>\n",
       "      <td>1296</td>\n",
       "      <td>Vascular Plant</td>\n",
       "      <td>Threelobe Beggarticks, Three-Lobe Beggarticks</td>\n",
       "      <td>Not of Concern</td>\n",
       "      <td>False</td>\n",
       "    </tr>\n",
       "    <tr>\n",
       "      <th>26</th>\n",
       "      <td>Oxalis dillenii</td>\n",
       "      <td>1276</td>\n",
       "      <td>Vascular Plant</td>\n",
       "      <td>Dillen's Woodsorrel, Yellow Sorrel</td>\n",
       "      <td>Not of Concern</td>\n",
       "      <td>False</td>\n",
       "    </tr>\n",
       "    <tr>\n",
       "      <th>27</th>\n",
       "      <td>Oxalis dillenii</td>\n",
       "      <td>1276</td>\n",
       "      <td>Vascular Plant</td>\n",
       "      <td>Dillen's Oxalis, Slender Yellow Woodsorrel</td>\n",
       "      <td>Not of Concern</td>\n",
       "      <td>False</td>\n",
       "    </tr>\n",
       "  </tbody>\n",
       "</table>\n",
       "</div>"
      ],
      "text/plain": [
       "          scientific_name  observations        category  \\\n",
       "0   Streptopelia decaocto          1785            Bird   \n",
       "1   Streptopelia decaocto          1785            Bird   \n",
       "2   Streptopelia decaocto          1785            Bird   \n",
       "3          Holcus lanatus          1780  Vascular Plant   \n",
       "4          Holcus lanatus          1780  Vascular Plant   \n",
       "5          Holcus lanatus          1780  Vascular Plant   \n",
       "6       Castor canadensis          1725          Mammal   \n",
       "7       Castor canadensis          1725          Mammal   \n",
       "8       Castor canadensis          1725          Mammal   \n",
       "9    Hypochaeris radicata          1720  Vascular Plant   \n",
       "10   Hypochaeris radicata          1720  Vascular Plant   \n",
       "11   Hypochaeris radicata          1720  Vascular Plant   \n",
       "12          Puma concolor          1711          Mammal   \n",
       "13          Puma concolor          1711          Mammal   \n",
       "14          Puma concolor          1711          Mammal   \n",
       "15          Procyon lotor          1692          Mammal   \n",
       "16          Procyon lotor          1692          Mammal   \n",
       "17          Procyon lotor          1692          Mammal   \n",
       "18          Columba livia          1653            Bird   \n",
       "19          Columba livia          1653            Bird   \n",
       "20          Columba livia          1653            Bird   \n",
       "21       Myotis lucifugus          1547          Mammal   \n",
       "22       Myotis lucifugus          1547          Mammal   \n",
       "23       Myotis lucifugus          1547          Mammal   \n",
       "24      Bidens tripartita          1296  Vascular Plant   \n",
       "25      Bidens tripartita          1296  Vascular Plant   \n",
       "26        Oxalis dillenii          1276  Vascular Plant   \n",
       "27        Oxalis dillenii          1276  Vascular Plant   \n",
       "\n",
       "                                         common_names conservation_status  \\\n",
       "0                              Eurasian Collared-Dove      Not of Concern   \n",
       "1      Eurasian Collared Dove, Eurasian Collared-Dove      Not of Concern   \n",
       "2                              Eurasian Collared Dove      Not of Concern   \n",
       "3                    Common Velvet Grass, Velvetgrass      Not of Concern   \n",
       "4                   Common Velvetgrass, Yorkshire-Fog      Not of Concern   \n",
       "5      Common Velvetgrass, Velvetgrass, Yorkshire Fog      Not of Concern   \n",
       "6                             American Beaver, Beaver      Not of Concern   \n",
       "7                                     American Beaver      Not of Concern   \n",
       "8                                              Beaver      Not of Concern   \n",
       "9                        Cat's Ear, Spotted Cat's-Ear      Not of Concern   \n",
       "10          Spotted Cats-Ear, Hairy Cats-Ear, Gosmore      Not of Concern   \n",
       "11  Common Cat's-Ear, False Dandelion, Frogbit, Go...      Not of Concern   \n",
       "12                            Panther (Mountain Lion)      Not of Concern   \n",
       "13                        Cougar, Mountain Lion, Puma      Not of Concern   \n",
       "14                                      Mountain Lion      Not of Concern   \n",
       "15                            Common Raccoon, Raccoon      Not of Concern   \n",
       "16          Common Raccoon, Northern Raccoon, Raccoon      Not of Concern   \n",
       "17                                            Raccoon      Not of Concern   \n",
       "18                                          Rock Dove      Not of Concern   \n",
       "19              Common Pigeon, Rock Dove, Rock Pigeon      Not of Concern   \n",
       "20                                        Rock Pigeon      Not of Concern   \n",
       "21              Little Brown Bat, Little Brown Myotis  Species of Concern   \n",
       "22  Little Brown Bat, Little Brown Myotis, Little ...  Species of Concern   \n",
       "23                                Little Brown Myotis  Species of Concern   \n",
       "24               Stick-Tight, Three-Lobe Beggar-Ticks      Not of Concern   \n",
       "25      Threelobe Beggarticks, Three-Lobe Beggarticks      Not of Concern   \n",
       "26                 Dillen's Woodsorrel, Yellow Sorrel      Not of Concern   \n",
       "27         Dillen's Oxalis, Slender Yellow Woodsorrel      Not of Concern   \n",
       "\n",
       "    is_protected  \n",
       "0          False  \n",
       "1          False  \n",
       "2          False  \n",
       "3          False  \n",
       "4          False  \n",
       "5          False  \n",
       "6          False  \n",
       "7          False  \n",
       "8          False  \n",
       "9          False  \n",
       "10         False  \n",
       "11         False  \n",
       "12         False  \n",
       "13         False  \n",
       "14         False  \n",
       "15         False  \n",
       "16         False  \n",
       "17         False  \n",
       "18         False  \n",
       "19         False  \n",
       "20         False  \n",
       "21          True  \n",
       "22          True  \n",
       "23          True  \n",
       "24         False  \n",
       "25         False  \n",
       "26         False  \n",
       "27         False  "
      ]
     },
     "execution_count": 79,
     "metadata": {},
     "output_type": "execute_result"
    }
   ],
   "source": [
    "popular_observations = popular_observations.to_frame().merge(df_species, left_on='scientific_name', right_on='scientific_name')\n",
    "popular_observations"
   ]
  },
  {
   "cell_type": "markdown",
   "metadata": {},
   "source": [
    "We've obviously got some duplicates, so we'll need to remove these."
   ]
  },
  {
   "cell_type": "code",
   "execution_count": 80,
   "metadata": {},
   "outputs": [
    {
     "data": {
      "text/html": [
       "<div>\n",
       "<style scoped>\n",
       "    .dataframe tbody tr th:only-of-type {\n",
       "        vertical-align: middle;\n",
       "    }\n",
       "\n",
       "    .dataframe tbody tr th {\n",
       "        vertical-align: top;\n",
       "    }\n",
       "\n",
       "    .dataframe thead th {\n",
       "        text-align: right;\n",
       "    }\n",
       "</style>\n",
       "<table border=\"1\" class=\"dataframe\">\n",
       "  <thead>\n",
       "    <tr style=\"text-align: right;\">\n",
       "      <th></th>\n",
       "      <th>observations</th>\n",
       "      <th>category</th>\n",
       "      <th>common_names</th>\n",
       "      <th>conservation_status</th>\n",
       "      <th>is_protected</th>\n",
       "    </tr>\n",
       "    <tr>\n",
       "      <th>scientific_name</th>\n",
       "      <th></th>\n",
       "      <th></th>\n",
       "      <th></th>\n",
       "      <th></th>\n",
       "      <th></th>\n",
       "    </tr>\n",
       "  </thead>\n",
       "  <tbody>\n",
       "    <tr>\n",
       "      <th>Streptopelia decaocto</th>\n",
       "      <td>1785</td>\n",
       "      <td>Bird</td>\n",
       "      <td>Eurasian Collared Dove, Eurasian Collared-Dove</td>\n",
       "      <td>Not of Concern</td>\n",
       "      <td>False</td>\n",
       "    </tr>\n",
       "    <tr>\n",
       "      <th>Holcus lanatus</th>\n",
       "      <td>1780</td>\n",
       "      <td>Vascular Plant</td>\n",
       "      <td>Common Velvetgrass, Velvetgrass, Yorkshire Fog</td>\n",
       "      <td>Not of Concern</td>\n",
       "      <td>False</td>\n",
       "    </tr>\n",
       "    <tr>\n",
       "      <th>Castor canadensis</th>\n",
       "      <td>1725</td>\n",
       "      <td>Mammal</td>\n",
       "      <td>American Beaver, Beaver</td>\n",
       "      <td>Not of Concern</td>\n",
       "      <td>False</td>\n",
       "    </tr>\n",
       "    <tr>\n",
       "      <th>Hypochaeris radicata</th>\n",
       "      <td>1720</td>\n",
       "      <td>Vascular Plant</td>\n",
       "      <td>Common Cat's-Ear, False Dandelion, Frogbit, Go...</td>\n",
       "      <td>Not of Concern</td>\n",
       "      <td>False</td>\n",
       "    </tr>\n",
       "    <tr>\n",
       "      <th>Puma concolor</th>\n",
       "      <td>1711</td>\n",
       "      <td>Mammal</td>\n",
       "      <td>Cougar, Mountain Lion, Puma</td>\n",
       "      <td>Not of Concern</td>\n",
       "      <td>False</td>\n",
       "    </tr>\n",
       "    <tr>\n",
       "      <th>Procyon lotor</th>\n",
       "      <td>1692</td>\n",
       "      <td>Mammal</td>\n",
       "      <td>Common Raccoon, Northern Raccoon, Raccoon</td>\n",
       "      <td>Not of Concern</td>\n",
       "      <td>False</td>\n",
       "    </tr>\n",
       "    <tr>\n",
       "      <th>Columba livia</th>\n",
       "      <td>1653</td>\n",
       "      <td>Bird</td>\n",
       "      <td>Common Pigeon, Rock Dove, Rock Pigeon</td>\n",
       "      <td>Not of Concern</td>\n",
       "      <td>False</td>\n",
       "    </tr>\n",
       "    <tr>\n",
       "      <th>Myotis lucifugus</th>\n",
       "      <td>1547</td>\n",
       "      <td>Mammal</td>\n",
       "      <td>Little Brown Bat, Little Brown Myotis, Little ...</td>\n",
       "      <td>Species of Concern</td>\n",
       "      <td>True</td>\n",
       "    </tr>\n",
       "    <tr>\n",
       "      <th>Bidens tripartita</th>\n",
       "      <td>1296</td>\n",
       "      <td>Vascular Plant</td>\n",
       "      <td>Threelobe Beggarticks, Three-Lobe Beggarticks</td>\n",
       "      <td>Not of Concern</td>\n",
       "      <td>False</td>\n",
       "    </tr>\n",
       "    <tr>\n",
       "      <th>Oxalis dillenii</th>\n",
       "      <td>1276</td>\n",
       "      <td>Vascular Plant</td>\n",
       "      <td>Dillen's Oxalis, Slender Yellow Woodsorrel</td>\n",
       "      <td>Not of Concern</td>\n",
       "      <td>False</td>\n",
       "    </tr>\n",
       "  </tbody>\n",
       "</table>\n",
       "</div>"
      ],
      "text/plain": [
       "                       observations        category  \\\n",
       "scientific_name                                       \n",
       "Streptopelia decaocto          1785            Bird   \n",
       "Holcus lanatus                 1780  Vascular Plant   \n",
       "Castor canadensis              1725          Mammal   \n",
       "Hypochaeris radicata           1720  Vascular Plant   \n",
       "Puma concolor                  1711          Mammal   \n",
       "Procyon lotor                  1692          Mammal   \n",
       "Columba livia                  1653            Bird   \n",
       "Myotis lucifugus               1547          Mammal   \n",
       "Bidens tripartita              1296  Vascular Plant   \n",
       "Oxalis dillenii                1276  Vascular Plant   \n",
       "\n",
       "                                                            common_names  \\\n",
       "scientific_name                                                            \n",
       "Streptopelia decaocto     Eurasian Collared Dove, Eurasian Collared-Dove   \n",
       "Holcus lanatus            Common Velvetgrass, Velvetgrass, Yorkshire Fog   \n",
       "Castor canadensis                                American Beaver, Beaver   \n",
       "Hypochaeris radicata   Common Cat's-Ear, False Dandelion, Frogbit, Go...   \n",
       "Puma concolor                                Cougar, Mountain Lion, Puma   \n",
       "Procyon lotor                  Common Raccoon, Northern Raccoon, Raccoon   \n",
       "Columba livia                      Common Pigeon, Rock Dove, Rock Pigeon   \n",
       "Myotis lucifugus       Little Brown Bat, Little Brown Myotis, Little ...   \n",
       "Bidens tripartita          Threelobe Beggarticks, Three-Lobe Beggarticks   \n",
       "Oxalis dillenii               Dillen's Oxalis, Slender Yellow Woodsorrel   \n",
       "\n",
       "                      conservation_status  is_protected  \n",
       "scientific_name                                          \n",
       "Streptopelia decaocto      Not of Concern         False  \n",
       "Holcus lanatus             Not of Concern         False  \n",
       "Castor canadensis          Not of Concern         False  \n",
       "Hypochaeris radicata       Not of Concern         False  \n",
       "Puma concolor              Not of Concern         False  \n",
       "Procyon lotor              Not of Concern         False  \n",
       "Columba livia              Not of Concern         False  \n",
       "Myotis lucifugus       Species of Concern          True  \n",
       "Bidens tripartita          Not of Concern         False  \n",
       "Oxalis dillenii            Not of Concern         False  "
      ]
     },
     "execution_count": 80,
     "metadata": {},
     "output_type": "execute_result"
    }
   ],
   "source": [
    "longest = lambda x: max(x, key=lambda z:len(z))\n",
    "popular_observations = popular_observations.groupby('scientific_name').aggregate({'observations': 'first',\n",
    "                                                                                   \t#'observations_yellowstone': 'first',\n",
    "                                                                                    #'observations_bryce': 'first',\n",
    "                                                                                    #'observations_yosemite': 'first',\n",
    "                                                                                    #'observations_great_smoky': 'first',\n",
    "                                                                                    'category': 'first',\n",
    "                                                                                    'common_names': longest,\n",
    "                                                                                    'conservation_status': 'first',\t\n",
    "                                                                                    'is_protected': 'first'}).sort_values('observations', ascending=False)\n",
    "popular_observations"
   ]
  },
  {
   "cell_type": "markdown",
   "metadata": {},
   "source": [
    "So we see the most popular species in order are the Eurasian Collared Dove, Common Velvetgrass, American Beaver, Common Cat's-Ear, Cougar, Common Raccoon, Common Pigeon, Little Brown Bat, Threelobe Beggarticks, and Dillen's Oxalis. Of these, 4 are Mammals, 4 are Vascular Plants, and 2 are Birds. And just 1 has a conservation status - the Little Brown Bat."
   ]
  },
  {
   "cell_type": "markdown",
   "metadata": {},
   "source": [
    "Now we'll plot these. As a bonus, we'll add their common name as well as where they were spotted in each park."
   ]
  },
  {
   "cell_type": "code",
   "execution_count": 81,
   "metadata": {},
   "outputs": [
    {
     "data": {
      "text/html": [
       "<div>\n",
       "<style scoped>\n",
       "    .dataframe tbody tr th:only-of-type {\n",
       "        vertical-align: middle;\n",
       "    }\n",
       "\n",
       "    .dataframe tbody tr th {\n",
       "        vertical-align: top;\n",
       "    }\n",
       "\n",
       "    .dataframe thead th {\n",
       "        text-align: right;\n",
       "    }\n",
       "</style>\n",
       "<table border=\"1\" class=\"dataframe\">\n",
       "  <thead>\n",
       "    <tr style=\"text-align: right;\">\n",
       "      <th></th>\n",
       "      <th>observations</th>\n",
       "      <th>observations_yellowstone</th>\n",
       "      <th>observations_bryce</th>\n",
       "      <th>observations_yosemite</th>\n",
       "      <th>observations_great_smoky</th>\n",
       "    </tr>\n",
       "    <tr>\n",
       "      <th>scientific_name</th>\n",
       "      <th></th>\n",
       "      <th></th>\n",
       "      <th></th>\n",
       "      <th></th>\n",
       "      <th></th>\n",
       "    </tr>\n",
       "  </thead>\n",
       "  <tbody>\n",
       "    <tr>\n",
       "      <th>Streptopelia decaocto</th>\n",
       "      <td>1785</td>\n",
       "      <td>771</td>\n",
       "      <td>457</td>\n",
       "      <td>256</td>\n",
       "      <td>301</td>\n",
       "    </tr>\n",
       "    <tr>\n",
       "      <th>Holcus lanatus</th>\n",
       "      <td>1780</td>\n",
       "      <td>805</td>\n",
       "      <td>463</td>\n",
       "      <td>216</td>\n",
       "      <td>296</td>\n",
       "    </tr>\n",
       "    <tr>\n",
       "      <th>Castor canadensis</th>\n",
       "      <td>1725</td>\n",
       "      <td>703</td>\n",
       "      <td>501</td>\n",
       "      <td>243</td>\n",
       "      <td>278</td>\n",
       "    </tr>\n",
       "    <tr>\n",
       "      <th>Hypochaeris radicata</th>\n",
       "      <td>1720</td>\n",
       "      <td>726</td>\n",
       "      <td>505</td>\n",
       "      <td>195</td>\n",
       "      <td>294</td>\n",
       "    </tr>\n",
       "    <tr>\n",
       "      <th>Puma concolor</th>\n",
       "      <td>1711</td>\n",
       "      <td>753</td>\n",
       "      <td>408</td>\n",
       "      <td>239</td>\n",
       "      <td>311</td>\n",
       "    </tr>\n",
       "    <tr>\n",
       "      <th>Procyon lotor</th>\n",
       "      <td>1692</td>\n",
       "      <td>745</td>\n",
       "      <td>453</td>\n",
       "      <td>247</td>\n",
       "      <td>247</td>\n",
       "    </tr>\n",
       "    <tr>\n",
       "      <th>Columba livia</th>\n",
       "      <td>1653</td>\n",
       "      <td>722</td>\n",
       "      <td>423</td>\n",
       "      <td>169</td>\n",
       "      <td>339</td>\n",
       "    </tr>\n",
       "    <tr>\n",
       "      <th>Myotis lucifugus</th>\n",
       "      <td>1547</td>\n",
       "      <td>679</td>\n",
       "      <td>396</td>\n",
       "      <td>174</td>\n",
       "      <td>298</td>\n",
       "    </tr>\n",
       "    <tr>\n",
       "      <th>Bidens tripartita</th>\n",
       "      <td>1296</td>\n",
       "      <td>602</td>\n",
       "      <td>254</td>\n",
       "      <td>176</td>\n",
       "      <td>264</td>\n",
       "    </tr>\n",
       "    <tr>\n",
       "      <th>Oxalis dillenii</th>\n",
       "      <td>1276</td>\n",
       "      <td>521</td>\n",
       "      <td>321</td>\n",
       "      <td>180</td>\n",
       "      <td>254</td>\n",
       "    </tr>\n",
       "  </tbody>\n",
       "</table>\n",
       "</div>"
      ],
      "text/plain": [
       "                       observations  observations_yellowstone  \\\n",
       "scientific_name                                                 \n",
       "Streptopelia decaocto          1785                       771   \n",
       "Holcus lanatus                 1780                       805   \n",
       "Castor canadensis              1725                       703   \n",
       "Hypochaeris radicata           1720                       726   \n",
       "Puma concolor                  1711                       753   \n",
       "Procyon lotor                  1692                       745   \n",
       "Columba livia                  1653                       722   \n",
       "Myotis lucifugus               1547                       679   \n",
       "Bidens tripartita              1296                       602   \n",
       "Oxalis dillenii                1276                       521   \n",
       "\n",
       "                       observations_bryce  observations_yosemite  \\\n",
       "scientific_name                                                    \n",
       "Streptopelia decaocto                 457                    256   \n",
       "Holcus lanatus                        463                    216   \n",
       "Castor canadensis                     501                    243   \n",
       "Hypochaeris radicata                  505                    195   \n",
       "Puma concolor                         408                    239   \n",
       "Procyon lotor                         453                    247   \n",
       "Columba livia                         423                    169   \n",
       "Myotis lucifugus                      396                    174   \n",
       "Bidens tripartita                     254                    176   \n",
       "Oxalis dillenii                       321                    180   \n",
       "\n",
       "                       observations_great_smoky  \n",
       "scientific_name                                  \n",
       "Streptopelia decaocto                       301  \n",
       "Holcus lanatus                              296  \n",
       "Castor canadensis                           278  \n",
       "Hypochaeris radicata                        294  \n",
       "Puma concolor                               311  \n",
       "Procyon lotor                               247  \n",
       "Columba livia                               339  \n",
       "Myotis lucifugus                            298  \n",
       "Bidens tripartita                           264  \n",
       "Oxalis dillenii                             254  "
      ]
     },
     "execution_count": 81,
     "metadata": {},
     "output_type": "execute_result"
    },
    {
     "data": {
      "image/png": "[encoded data removed]",
      "text/plain": [
       "<Figure size 640x480 with 1 Axes>"
      ]
     },
     "metadata": {},
     "output_type": "display_data"
    }
   ],
   "source": [
    "popular_observations.common_names = popular_observations.common_names.str.split(',').str[0] # tidy common name - take the first value of each common name\n",
    "scientific_to_common = popular_observations['common_names'] # store common names for later\n",
    "\n",
    "# one by one add the observations from each separate park for each species\n",
    "popular_observations = popular_observations.merge(df_obs[df_obs.park_name == \"Great Smoky Mountains National Park\"][['scientific_name','observations']],\\\n",
    "                                                             left_on='scientific_name', right_on='scientific_name')\\\n",
    "                                                            .groupby('scientific_name').aggregate({'observations_x': 'first', 'observations_y': 'sum'})\n",
    "popular_observations.columns = ['observations','observations_great_smoky']\n",
    "popular_observations = popular_observations.merge(df_obs[df_obs.park_name == \"Yosemite National Park\"][['scientific_name','observations']],\\\n",
    "                                                             left_on='scientific_name', right_on='scientific_name')\\\n",
    "                                                            .groupby('scientific_name').aggregate({'observations_x': 'first', 'observations_y': 'sum','observations_great_smoky':'first'})\n",
    "popular_observations.columns = ['observations','observations_yosemite','observations_great_smoky']\n",
    "popular_observations = popular_observations.merge(df_obs[df_obs.park_name == \"Bryce National Park\"][['scientific_name','observations']],\\\n",
    "                                                             left_on='scientific_name', right_on='scientific_name')\\\n",
    "                                                            .groupby('scientific_name').aggregate({'observations_x': 'first', 'observations_y': 'sum','observations_great_smoky':'first', 'observations_yosemite':'first'})\n",
    "popular_observations.columns = ['observations','observations_bryce','observations_yosemite','observations_great_smoky']\n",
    "popular_observations = popular_observations.merge(df_obs[df_obs.park_name == \"Yellowstone National Park\"][['scientific_name','observations']],\\\n",
    "                                                             left_on='scientific_name', right_on='scientific_name')\\\n",
    "                                                            .groupby('scientific_name').aggregate({'observations_x': 'first', 'observations_y': 'sum','observations_great_smoky':'first', 'observations_yosemite':'first','observations_bryce':'first'})\n",
    "popular_observations.columns = ['observations','observations_yellowstone','observations_bryce','observations_yosemite','observations_great_smoky']\n",
    "\n",
    "popular_observations.sort_values('observations',inplace=True, ascending=False)\n",
    "\n",
    "# plot bar chart\n",
    "fig, ax = plt.subplots()\n",
    "popular_observations[['observations_yellowstone','observations_bryce','observations_yosemite','observations_great_smoky']].plot(kind='bar',stacked=True,ax=ax)\n",
    "ax.legend(['Yellowstone','Bryce','Yosemite','Great Smoky Mountains'],loc='upper right', bbox_to_anchor=(1.25, 1.025),framealpha=1,title='National Park Spotted In')\n",
    "ax.set_xlabel('Common Name of Species')\n",
    "ax.set_ylabel('Number of observations over the past 7 days')\n",
    "ax.set_title('Observations of the most popular species in different national parks')\n",
    "ax.set_xticklabels(scientific_to_common)\n",
    "popular_observations"
   ]
  },
  {
   "cell_type": "markdown",
   "metadata": {},
   "source": [
    "The most observed species was a Eurasian Collared Dove, which was spotted 1785 times over the past 7 days. They were spotted more at Yellowstone National Park, having been spotted 771 times, but were only observed 256 times at Yosemite National Park. Although we do see that most species were spotted more at Yellowstone, so there may be more factors at play here - this will be talked about in our conclusions."
   ]
  },
  {
   "cell_type": "markdown",
   "metadata": {},
   "source": [
    "## Conclusion\n",
    "\n",
    "We've managed to answer our 4 questions:\n",
    "\n",
    "- What is the distribution of conservation status for species?\n",
    "\n",
    "We've seen that most species do not have a conservation status (5633 vs 191), but of those that do, most are a species of concern (161). 7 mammals, 4 birds, 3 fish, 1 amphibian and 1 vascular plant are endangered.\n",
    "\n",
    "- Are certain types of species more likely to be endangered?\n",
    "\n",
    "Mammals and Birds are more likely than others to be endangered - around `15%` of birds and `17%` of mammals are endangered in some capacity. Whereas, some are less likely to be endangered - only `1%` of vascular plants and `1.5%` of nonvascular plants are endangered. \n",
    "\n",
    "- Are the differences between species and their conservation status significant?\n",
    "\n",
    "Mammals and Birds do not have a statistically significant difference, but Mammals and Birds do have a statistically significant difference to others such as Nonvascular Plants.\n",
    "\n",
    "- Which animal is most prevalent and what is their distribution amongst parks?\n",
    "\n",
    "The most observed species was a Eurasian Collared Dove, which was spotted 1785 times over the past 7 days. They were spotted most at Yellowstone National Park, having been spotted 771 times, but were only observed 256 times at Yosemite National Park."
   ]
  },
  {
   "cell_type": "markdown",
   "metadata": {},
   "source": [
    "### Further Research\n",
    "\n",
    "We've seen that species seem to be spotted more at Yellowstone than at others. There is a variety of factors as to why that could be the case - more observers, more land area, or just generally more animals and plants. It'd be great to look into why that is the case.\n",
    "\n",
    "There's also a limitation to using observations for species populations - some animals may be spotted more than others, eg. birds flying around could be counted by more than once more easily than plants, some animals may be scared of humans and so would avoid the observers, some species may be mistook for a similar looking species and so would skew the numbers.\n",
    "\n",
    "Although using observations is a better tool for measuring population change - if we had access to observations over time, we could get a better idea if endangered species populations were increasing or dwindling."
   ]
  }
 ],
 "metadata": {
  "kernelspec": {
   "display_name": "Python 3",
   "language": "python",
   "name": "python3"
  },
  "language_info": {
   "codemirror_mode": {
    "name": "ipython",
    "version": 3
   },
   "file_extension": ".py",
   "mimetype": "text/x-python",
   "name": "python",
   "nbconvert_exporter": "python",
   "pygments_lexer": "ipython3",
   "version": "3.8.6"
  }
 },
 "nbformat": 4,
 "nbformat_minor": 4
}
